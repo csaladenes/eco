{
 "cells": [
  {
   "cell_type": "code",
   "execution_count": 1,
   "metadata": {},
   "outputs": [],
   "source": [
    "import pandas as pd, numpy as np"
   ]
  },
  {
   "cell_type": "code",
   "execution_count": 2,
   "metadata": {},
   "outputs": [],
   "source": [
    "import matplotlib.pyplot as plt"
   ]
  },
  {
   "cell_type": "code",
   "execution_count": 3,
   "metadata": {},
   "outputs": [],
   "source": [
    "import altair as alt"
   ]
  },
  {
   "cell_type": "code",
   "execution_count": 4,
   "metadata": {},
   "outputs": [],
   "source": [
    "#https://fred.stlouisfed.org/graph/?g=Cgea\n",
    "#https://fred.stlouisfed.org/graph/fredgraph.png?g=Cgea"
   ]
  },
  {
   "cell_type": "code",
   "execution_count": 5,
   "metadata": {},
   "outputs": [],
   "source": [
    "#https://fred.stlouisfed.org/series/DRTSCIS"
   ]
  },
  {
   "cell_type": "code",
   "execution_count": 6,
   "metadata": {},
   "outputs": [],
   "source": [
    "#https://fred.stlouisfed.org/graph/fredgraph.csv?bgcolor=%23e1e9f0&chart_type=line&drp=0&fo=open%20sans&graph_bgcolor=%23ffffff&height=450&mode=fred&recession_bars=on&txtcolor=%23444444&ts=12&tts=12&width=968&nt=0&thu=0&trc=0&show_legend=yes&show_axis_titles=yes&show_tooltip=yes&id=DRTSCIS&scale=left&cosd=1990-04-01&coed=2021-01-01&line_color=%234572a7&link_values=false&line_style=solid&mark_type=none&mw=3&lw=2&ost=-99999&oet=99999&mma=0&fml=a&fq=Quarterly%2C%20End%20of%20Period&fam=avg&fgst=lin&fgsnd=2020-02-01&line_index=1&transformation=lin&vintage_date=2021-03-22&revision_date=2021-03-22&nd=1990-04-01"
   ]
  },
  {
   "cell_type": "code",
   "execution_count": 7,
   "metadata": {},
   "outputs": [],
   "source": [
    "df1=pd.read_csv('https://fred.stlouisfed.org/graph/fredgraph.csv?id=DRTSCIS')"
   ]
  },
  {
   "cell_type": "code",
   "execution_count": 8,
   "metadata": {},
   "outputs": [],
   "source": [
    "#https://fred.stlouisfed.org/series/BAMLH0A0HYM2"
   ]
  },
  {
   "cell_type": "code",
   "execution_count": 9,
   "metadata": {},
   "outputs": [],
   "source": [
    "#https://fred.stlouisfed.org/graph/fredgraph.csv?bgcolor=%23e1e9f0&chart_type=line&drp=0&fo=open%20sans&graph_bgcolor=%23ffffff&height=450&mode=fred&recession_bars=on&txtcolor=%23444444&ts=12&tts=12&width=968&nt=0&thu=0&trc=0&show_legend=yes&show_axis_titles=yes&show_tooltip=yes&id=BAMLH0A0HYM2&scale=left&cosd=1996-12-31&coed=2021-03-19&line_color=%234572a7&link_values=false&line_style=solid&mark_type=none&mw=3&lw=2&ost=-99999&oet=99999&mma=0&fml=a&fq=Daily%2C%20Close&fam=avg&fgst=lin&fgsnd=2020-02-01&line_index=1&transformation=lin&vintage_date=2021-03-22&revision_date=2021-03-22&nd=1996-12-31"
   ]
  },
  {
   "cell_type": "code",
   "execution_count": 10,
   "metadata": {},
   "outputs": [],
   "source": [
    "df2=pd.read_csv('https://fred.stlouisfed.org/graph/fredgraph.csv?id=BAMLH0A0HYM2')"
   ]
  },
  {
   "cell_type": "code",
   "execution_count": 11,
   "metadata": {},
   "outputs": [],
   "source": [
    "start='2000-01-01'\n",
    "end='2020-12-31'"
   ]
  },
  {
   "cell_type": "code",
   "execution_count": 12,
   "metadata": {},
   "outputs": [],
   "source": [
    "recessions=[{\n",
    "            \"start\": \"2001-03-31\",\n",
    "            \"end\": \"2001-11-30\",\n",
    "            \"event\": \"recession\"\n",
    "          },\n",
    "          {\n",
    "            \"start\": \"2007-12-31\",\n",
    "            \"end\": \"2009-06-30\",\n",
    "            \"event\": \"recession\"\n",
    "          },\n",
    "          {\n",
    "            \"start\": \"2020-02-29\",\n",
    "            \"end\": \"2021-04-01\",\n",
    "            \"event\": \"covid\"\n",
    "          }]\n",
    "color_dict={'covid':'#F3F4D8','recession':'#E2E2E2'}\n",
    "dr=pd.DataFrame(recessions)\n",
    "dr['color']=[color_dict[i] for i in dr['event']]"
   ]
  },
  {
   "cell_type": "code",
   "execution_count": 13,
   "metadata": {},
   "outputs": [],
   "source": [
    "df1=df1.astype({'DATE':np.datetime64}).set_index('DATE').dropna().loc[start:end].reset_index()\n",
    "df2=df2.astype({'DATE':np.datetime64}).set_index('DATE').replace('.',np.nan).astype(float).loc[start:end].reset_index().dropna()\n",
    "df2=df2[pd.to_datetime(df2['DATE']).dt.month.diff(periods=-1)!=0]"
   ]
  },
  {
   "cell_type": "code",
   "execution_count": 14,
   "metadata": {},
   "outputs": [
    {
     "data": {
      "text/html": [
       "\n",
       "<div id=\"altair-viz-59e46e52b834491f89f9f480c05f3a0d\"></div>\n",
       "<script type=\"text/javascript\">\n",
       "  (function(spec, embedOpt){\n",
       "    let outputDiv = document.currentScript.previousElementSibling;\n",
       "    if (outputDiv.id !== \"altair-viz-59e46e52b834491f89f9f480c05f3a0d\") {\n",
       "      outputDiv = document.getElementById(\"altair-viz-59e46e52b834491f89f9f480c05f3a0d\");\n",
       "    }\n",
       "    const paths = {\n",
       "      \"vega\": \"https://cdn.jsdelivr.net/npm//vega@5?noext\",\n",
       "      \"vega-lib\": \"https://cdn.jsdelivr.net/npm//vega-lib?noext\",\n",
       "      \"vega-lite\": \"https://cdn.jsdelivr.net/npm//vega-lite@4.8.1?noext\",\n",
       "      \"vega-embed\": \"https://cdn.jsdelivr.net/npm//vega-embed@6?noext\",\n",
       "    };\n",
       "\n",
       "    function loadScript(lib) {\n",
       "      return new Promise(function(resolve, reject) {\n",
       "        var s = document.createElement('script');\n",
       "        s.src = paths[lib];\n",
       "        s.async = true;\n",
       "        s.onload = () => resolve(paths[lib]);\n",
       "        s.onerror = () => reject(`Error loading script: ${paths[lib]}`);\n",
       "        document.getElementsByTagName(\"head\")[0].appendChild(s);\n",
       "      });\n",
       "    }\n",
       "\n",
       "    function showError(err) {\n",
       "      outputDiv.innerHTML = `<div class=\"error\" style=\"color:red;\">${err}</div>`;\n",
       "      throw err;\n",
       "    }\n",
       "\n",
       "    function displayChart(vegaEmbed) {\n",
       "      vegaEmbed(outputDiv, spec, embedOpt)\n",
       "        .catch(err => showError(`Javascript Error: ${err.message}<br>This usually means there's a typo in your chart specification. See the javascript console for the full traceback.`));\n",
       "    }\n",
       "\n",
       "    if(typeof define === \"function\" && define.amd) {\n",
       "      requirejs.config({paths});\n",
       "      require([\"vega-embed\"], displayChart, err => showError(`Error loading script: ${err.message}`));\n",
       "    } else if (typeof vegaEmbed === \"function\") {\n",
       "      displayChart(vegaEmbed);\n",
       "    } else {\n",
       "      loadScript(\"vega\")\n",
       "        .then(() => loadScript(\"vega-lite\"))\n",
       "        .then(() => loadScript(\"vega-embed\"))\n",
       "        .catch(showError)\n",
       "        .then(() => displayChart(vegaEmbed));\n",
       "    }\n",
       "  })({\"config\": {\"view\": {\"continuousWidth\": 400, \"continuousHeight\": 300}}, \"layer\": [{\"data\": {\"name\": \"data-2b08226b30bbb08a20f45bc01ddaafde\"}, \"mark\": {\"type\": \"rect\", \"blend\": \"darken\"}, \"encoding\": {\"color\": {\"type\": \"nominal\", \"field\": \"color\", \"scale\": null}, \"x\": {\"type\": \"temporal\", \"field\": \"start\"}, \"x2\": {\"field\": \"end\"}}, \"height\": 250, \"width\": 700}, {\"layer\": [{\"data\": {\"name\": \"data-aabda36bdbddb46b357052b4840408ae\"}, \"mark\": {\"type\": \"line\", \"color\": \"#557CAA\", \"line\": true}, \"encoding\": {\"x\": {\"type\": \"temporal\", \"axis\": {\"grid\": false}, \"field\": \"DATE\", \"title\": null}, \"y\": {\"type\": \"quantitative\", \"axis\": {\"format\": \".1f\", \"grid\": true, \"tickCount\": 9, \"titleFontWeight\": \"normal\", \"values\": [0.0, 2.5, 5.0, 7.5, 10.0, 12.5, 15.0, 17.5, 20.0]}, \"field\": \"BAMLH0A0HYM2\", \"scale\": {\"domain\": [0, 20]}, \"title\": \"Percent\"}}}, {\"data\": {\"name\": \"data-5dfce89290c40f96d321b9bfa30cae7a\"}, \"mark\": {\"type\": \"line\", \"color\": \"#A53F3D\", \"line\": true}, \"encoding\": {\"x\": {\"type\": \"temporal\", \"field\": \"DATE\"}, \"y\": {\"type\": \"quantitative\", \"axis\": {\"format\": \".0f\", \"tickCount\": 9, \"titleFontWeight\": \"normal\", \"values\": [-30, -15, 0, 15, 30, 45, 60, 75, 90]}, \"field\": \"DRTSCIS\", \"scale\": {\"domain\": [-30, 90]}, \"title\": \"Percent\"}}}, {\"data\": {\"name\": \"data-4c6f780913a45f81a467345005541598\"}, \"mark\": {\"type\": \"rule\", \"size\": 3}, \"encoding\": {\"y\": {\"type\": \"quantitative\", \"axis\": {\"grid\": false, \"values\": []}, \"field\": \"value\", \"scale\": {\"domain\": [0, 20]}, \"title\": null}}}], \"resolve\": {\"scale\": {\"y\": \"independent\"}}}, {\"data\": {\"name\": \"data-4c6f780913a45f81a467345005541598\"}, \"mark\": {\"type\": \"rule\", \"size\": 3}, \"encoding\": {\"y\": {\"type\": \"quantitative\", \"axis\": {\"grid\": false, \"values\": []}, \"field\": \"value\", \"scale\": {\"domain\": [0, 20]}, \"title\": null}}}], \"$schema\": \"https://vega.github.io/schema/vega-lite/v4.8.1.json\", \"datasets\": {\"data-2b08226b30bbb08a20f45bc01ddaafde\": [{\"start\": \"2001-03-31\", \"end\": \"2001-11-30\", \"event\": \"recession\", \"color\": \"#E2E2E2\"}, {\"start\": \"2007-12-31\", \"end\": \"2009-06-30\", \"event\": \"recession\", \"color\": \"#E2E2E2\"}, {\"start\": \"2020-02-29\", \"end\": \"2021-04-01\", \"event\": \"covid\", \"color\": \"#F3F4D8\"}], \"data-aabda36bdbddb46b357052b4840408ae\": [{\"index\": 20, \"DATE\": \"2000-01-31T00:00:00\", \"BAMLH0A0HYM2\": 4.87}, {\"index\": 41, \"DATE\": \"2000-02-29T00:00:00\", \"BAMLH0A0HYM2\": 5.08}, {\"index\": 64, \"DATE\": \"2000-03-31T00:00:00\", \"BAMLH0A0HYM2\": 5.75}, {\"index\": 85, \"DATE\": \"2000-04-30T00:00:00\", \"BAMLH0A0HYM2\": 5.88}, {\"index\": 108, \"DATE\": \"2000-05-31T00:00:00\", \"BAMLH0A0HYM2\": 6.16}, {\"index\": 130, \"DATE\": \"2000-06-30T00:00:00\", \"BAMLH0A0HYM2\": 6.17}, {\"index\": 151, \"DATE\": \"2000-07-31T00:00:00\", \"BAMLH0A0HYM2\": 6.26}, {\"index\": 174, \"DATE\": \"2000-08-31T00:00:00\", \"BAMLH0A0HYM2\": 6.43}, {\"index\": 196, \"DATE\": \"2000-09-30T00:00:00\", \"BAMLH0A0HYM2\": 6.77}, {\"index\": 218, \"DATE\": \"2000-10-31T00:00:00\", \"BAMLH0A0HYM2\": 7.79}, {\"index\": 240, \"DATE\": \"2000-11-30T00:00:00\", \"BAMLH0A0HYM2\": 9.06}, {\"index\": 262, \"DATE\": \"2000-12-31T00:00:00\", \"BAMLH0A0HYM2\": 9.16}, {\"index\": 285, \"DATE\": \"2001-01-31T00:00:00\", \"BAMLH0A0HYM2\": 7.87}, {\"index\": 305, \"DATE\": \"2001-02-28T00:00:00\", \"BAMLH0A0HYM2\": 7.7}, {\"index\": 328, \"DATE\": \"2001-03-31T00:00:00\", \"BAMLH0A0HYM2\": 8.18}, {\"index\": 349, \"DATE\": \"2001-04-30T00:00:00\", \"BAMLH0A0HYM2\": 8.06}, {\"index\": 372, \"DATE\": \"2001-05-31T00:00:00\", \"BAMLH0A0HYM2\": 7.68}, {\"index\": 394, \"DATE\": \"2001-06-30T00:00:00\", \"BAMLH0A0HYM2\": 8.16}, {\"index\": 416, \"DATE\": \"2001-07-31T00:00:00\", \"BAMLH0A0HYM2\": 8.27}, {\"index\": 439, \"DATE\": \"2001-08-31T00:00:00\", \"BAMLH0A0HYM2\": 8.05}, {\"index\": 460, \"DATE\": \"2001-09-30T00:00:00\", \"BAMLH0A0HYM2\": 10.18}, {\"index\": 483, \"DATE\": \"2001-10-31T00:00:00\", \"BAMLH0A0HYM2\": 9.61}, {\"index\": 505, \"DATE\": \"2001-11-30T00:00:00\", \"BAMLH0A0HYM2\": 8.39}, {\"index\": 526, \"DATE\": \"2001-12-31T00:00:00\", \"BAMLH0A0HYM2\": 8.24}, {\"index\": 549, \"DATE\": \"2002-01-31T00:00:00\", \"BAMLH0A0HYM2\": 7.89}, {\"index\": 569, \"DATE\": \"2002-02-28T00:00:00\", \"BAMLH0A0HYM2\": 8.19}, {\"index\": 591, \"DATE\": \"2002-03-31T00:00:00\", \"BAMLH0A0HYM2\": 7.08}, {\"index\": 613, \"DATE\": \"2002-04-30T00:00:00\", \"BAMLH0A0HYM2\": 6.88}, {\"index\": 636, \"DATE\": \"2002-05-31T00:00:00\", \"BAMLH0A0HYM2\": 7.28}, {\"index\": 657, \"DATE\": \"2002-06-30T00:00:00\", \"BAMLH0A0HYM2\": 8.75}, {\"index\": 680, \"DATE\": \"2002-07-31T00:00:00\", \"BAMLH0A0HYM2\": 9.71}, {\"index\": 703, \"DATE\": \"2002-08-31T00:00:00\", \"BAMLH0A0HYM2\": 9.61}, {\"index\": 724, \"DATE\": \"2002-09-30T00:00:00\", \"BAMLH0A0HYM2\": 10.33}, {\"index\": 747, \"DATE\": \"2002-10-31T00:00:00\", \"BAMLH0A0HYM2\": 10.59}, {\"index\": 769, \"DATE\": \"2002-11-30T00:00:00\", \"BAMLH0A0HYM2\": 8.83}, {\"index\": 791, \"DATE\": \"2002-12-31T00:00:00\", \"BAMLH0A0HYM2\": 8.9}, {\"index\": 814, \"DATE\": \"2003-01-31T00:00:00\", \"BAMLH0A0HYM2\": 8.29}, {\"index\": 834, \"DATE\": \"2003-02-28T00:00:00\", \"BAMLH0A0HYM2\": 8.38}, {\"index\": 855, \"DATE\": \"2003-03-31T00:00:00\", \"BAMLH0A0HYM2\": 7.72}, {\"index\": 877, \"DATE\": \"2003-04-30T00:00:00\", \"BAMLH0A0HYM2\": 6.44}, {\"index\": 900, \"DATE\": \"2003-05-31T00:00:00\", \"BAMLH0A0HYM2\": 6.79}, {\"index\": 921, \"DATE\": \"2003-06-30T00:00:00\", \"BAMLH0A0HYM2\": 6.13}, {\"index\": 944, \"DATE\": \"2003-07-31T00:00:00\", \"BAMLH0A0HYM2\": 5.67}, {\"index\": 966, \"DATE\": \"2003-08-31T00:00:00\", \"BAMLH0A0HYM2\": 5.46}, {\"index\": 988, \"DATE\": \"2003-09-30T00:00:00\", \"BAMLH0A0HYM2\": 5.51}, {\"index\": 1011, \"DATE\": \"2003-10-31T00:00:00\", \"BAMLH0A0HYM2\": 4.73}, {\"index\": 1032, \"DATE\": \"2003-11-30T00:00:00\", \"BAMLH0A0HYM2\": 4.48}, {\"index\": 1055, \"DATE\": \"2003-12-31T00:00:00\", \"BAMLH0A0HYM2\": 4.18}, {\"index\": 1078, \"DATE\": \"2004-01-31T00:00:00\", \"BAMLH0A0HYM2\": 4.05}, {\"index\": 1099, \"DATE\": \"2004-02-29T00:00:00\", \"BAMLH0A0HYM2\": 4.34}, {\"index\": 1122, \"DATE\": \"2004-03-31T00:00:00\", \"BAMLH0A0HYM2\": 4.41}, {\"index\": 1144, \"DATE\": \"2004-04-30T00:00:00\", \"BAMLH0A0HYM2\": 3.91}, {\"index\": 1165, \"DATE\": \"2004-05-31T00:00:00\", \"BAMLH0A0HYM2\": 4.28}, {\"index\": 1187, \"DATE\": \"2004-06-30T00:00:00\", \"BAMLH0A0HYM2\": 4.1}, {\"index\": 1210, \"DATE\": \"2004-07-31T00:00:00\", \"BAMLH0A0HYM2\": 4.02}, {\"index\": 1232, \"DATE\": \"2004-08-31T00:00:00\", \"BAMLH0A0HYM2\": 4.06}, {\"index\": 1254, \"DATE\": \"2004-09-30T00:00:00\", \"BAMLH0A0HYM2\": 3.83}, {\"index\": 1276, \"DATE\": \"2004-10-31T00:00:00\", \"BAMLH0A0HYM2\": 3.63}, {\"index\": 1298, \"DATE\": \"2004-11-30T00:00:00\", \"BAMLH0A0HYM2\": 3.17}, {\"index\": 1321, \"DATE\": \"2004-12-31T00:00:00\", \"BAMLH0A0HYM2\": 3.1}, {\"index\": 1342, \"DATE\": \"2005-01-31T00:00:00\", \"BAMLH0A0HYM2\": 3.29}, {\"index\": 1362, \"DATE\": \"2005-02-28T00:00:00\", \"BAMLH0A0HYM2\": 2.83}, {\"index\": 1385, \"DATE\": \"2005-03-31T00:00:00\", \"BAMLH0A0HYM2\": 3.52}, {\"index\": 1407, \"DATE\": \"2005-04-30T00:00:00\", \"BAMLH0A0HYM2\": 4.19}, {\"index\": 1429, \"DATE\": \"2005-05-31T00:00:00\", \"BAMLH0A0HYM2\": 4.13}, {\"index\": 1451, \"DATE\": \"2005-06-30T00:00:00\", \"BAMLH0A0HYM2\": 3.85}, {\"index\": 1473, \"DATE\": \"2005-07-31T00:00:00\", \"BAMLH0A0HYM2\": 3.3}, {\"index\": 1496, \"DATE\": \"2005-08-31T00:00:00\", \"BAMLH0A0HYM2\": 3.66}, {\"index\": 1518, \"DATE\": \"2005-09-30T00:00:00\", \"BAMLH0A0HYM2\": 3.54}, {\"index\": 1539, \"DATE\": \"2005-10-31T00:00:00\", \"BAMLH0A0HYM2\": 3.61}, {\"index\": 1561, \"DATE\": \"2005-11-30T00:00:00\", \"BAMLH0A0HYM2\": 3.67}, {\"index\": 1584, \"DATE\": \"2005-12-31T00:00:00\", \"BAMLH0A0HYM2\": 3.71}, {\"index\": 1606, \"DATE\": \"2006-01-31T00:00:00\", \"BAMLH0A0HYM2\": 3.42}, {\"index\": 1626, \"DATE\": \"2006-02-28T00:00:00\", \"BAMLH0A0HYM2\": 3.37}, {\"index\": 1649, \"DATE\": \"2006-03-31T00:00:00\", \"BAMLH0A0HYM2\": 3.13}, {\"index\": 1670, \"DATE\": \"2006-04-30T00:00:00\", \"BAMLH0A0HYM2\": 3.04}, {\"index\": 1693, \"DATE\": \"2006-05-31T00:00:00\", \"BAMLH0A0HYM2\": 3.12}, {\"index\": 1715, \"DATE\": \"2006-06-30T00:00:00\", \"BAMLH0A0HYM2\": 3.35}, {\"index\": 1736, \"DATE\": \"2006-07-31T00:00:00\", \"BAMLH0A0HYM2\": 3.45}, {\"index\": 1759, \"DATE\": \"2006-08-31T00:00:00\", \"BAMLH0A0HYM2\": 3.49}, {\"index\": 1781, \"DATE\": \"2006-09-30T00:00:00\", \"BAMLH0A0HYM2\": 3.44}, {\"index\": 1803, \"DATE\": \"2006-10-31T00:00:00\", \"BAMLH0A0HYM2\": 3.29}, {\"index\": 1825, \"DATE\": \"2006-11-30T00:00:00\", \"BAMLH0A0HYM2\": 3.2}, {\"index\": 1847, \"DATE\": \"2006-12-31T00:00:00\", \"BAMLH0A0HYM2\": 2.89}, {\"index\": 1870, \"DATE\": \"2007-01-31T00:00:00\", \"BAMLH0A0HYM2\": 2.72}, {\"index\": 1890, \"DATE\": \"2007-02-28T00:00:00\", \"BAMLH0A0HYM2\": 2.82}, {\"index\": 1913, \"DATE\": \"2007-03-31T00:00:00\", \"BAMLH0A0HYM2\": 2.85}, {\"index\": 1934, \"DATE\": \"2007-04-30T00:00:00\", \"BAMLH0A0HYM2\": 2.74}, {\"index\": 1957, \"DATE\": \"2007-05-31T00:00:00\", \"BAMLH0A0HYM2\": 2.46}, {\"index\": 1979, \"DATE\": \"2007-06-30T00:00:00\", \"BAMLH0A0HYM2\": 2.98}, {\"index\": 2001, \"DATE\": \"2007-07-31T00:00:00\", \"BAMLH0A0HYM2\": 4.19}, {\"index\": 2024, \"DATE\": \"2007-08-31T00:00:00\", \"BAMLH0A0HYM2\": 4.55}, {\"index\": 2045, \"DATE\": \"2007-09-30T00:00:00\", \"BAMLH0A0HYM2\": 4.2}, {\"index\": 2068, \"DATE\": \"2007-10-31T00:00:00\", \"BAMLH0A0HYM2\": 4.36}, {\"index\": 2090, \"DATE\": \"2007-11-30T00:00:00\", \"BAMLH0A0HYM2\": 5.75}, {\"index\": 2111, \"DATE\": \"2007-12-31T00:00:00\", \"BAMLH0A0HYM2\": 5.92}, {\"index\": 2134, \"DATE\": \"2008-01-31T00:00:00\", \"BAMLH0A0HYM2\": 6.95}, {\"index\": 2155, \"DATE\": \"2008-02-29T00:00:00\", \"BAMLH0A0HYM2\": 7.67}, {\"index\": 2176, \"DATE\": \"2008-03-31T00:00:00\", \"BAMLH0A0HYM2\": 8.21}, {\"index\": 2198, \"DATE\": \"2008-04-30T00:00:00\", \"BAMLH0A0HYM2\": 6.86}, {\"index\": 2221, \"DATE\": \"2008-05-31T00:00:00\", \"BAMLH0A0HYM2\": 6.53}, {\"index\": 2242, \"DATE\": \"2008-06-30T00:00:00\", \"BAMLH0A0HYM2\": 7.35}, {\"index\": 2265, \"DATE\": \"2008-07-31T00:00:00\", \"BAMLH0A0HYM2\": 8.0}, {\"index\": 2287, \"DATE\": \"2008-08-31T00:00:00\", \"BAMLH0A0HYM2\": 8.36}, {\"index\": 2309, \"DATE\": \"2008-09-30T00:00:00\", \"BAMLH0A0HYM2\": 10.96}, {\"index\": 2332, \"DATE\": \"2008-10-31T00:00:00\", \"BAMLH0A0HYM2\": 16.17}, {\"index\": 2353, \"DATE\": \"2008-11-30T00:00:00\", \"BAMLH0A0HYM2\": 19.88}, {\"index\": 2376, \"DATE\": \"2008-12-31T00:00:00\", \"BAMLH0A0HYM2\": 18.12}, {\"index\": 2399, \"DATE\": \"2009-01-31T00:00:00\", \"BAMLH0A0HYM2\": 16.26}, {\"index\": 2420, \"DATE\": \"2009-02-28T00:00:00\", \"BAMLH0A0HYM2\": 17.38}, {\"index\": 2442, \"DATE\": \"2009-03-31T00:00:00\", \"BAMLH0A0HYM2\": 17.03}, {\"index\": 2464, \"DATE\": \"2009-04-30T00:00:00\", \"BAMLH0A0HYM2\": 13.45}, {\"index\": 2486, \"DATE\": \"2009-05-31T00:00:00\", \"BAMLH0A0HYM2\": 11.7}, {\"index\": 2508, \"DATE\": \"2009-06-30T00:00:00\", \"BAMLH0A0HYM2\": 10.55}, {\"index\": 2531, \"DATE\": \"2009-07-31T00:00:00\", \"BAMLH0A0HYM2\": 9.22}, {\"index\": 2552, \"DATE\": \"2009-08-31T00:00:00\", \"BAMLH0A0HYM2\": 9.12}, {\"index\": 2574, \"DATE\": \"2009-09-30T00:00:00\", \"BAMLH0A0HYM2\": 7.93}, {\"index\": 2597, \"DATE\": \"2009-10-31T00:00:00\", \"BAMLH0A0HYM2\": 7.6}, {\"index\": 2618, \"DATE\": \"2009-11-30T00:00:00\", \"BAMLH0A0HYM2\": 7.65}, {\"index\": 2641, \"DATE\": \"2009-12-31T00:00:00\", \"BAMLH0A0HYM2\": 6.39}, {\"index\": 2663, \"DATE\": \"2010-01-31T00:00:00\", \"BAMLH0A0HYM2\": 6.54}, {\"index\": 2684, \"DATE\": \"2010-02-28T00:00:00\", \"BAMLH0A0HYM2\": 6.71}, {\"index\": 2707, \"DATE\": \"2010-03-31T00:00:00\", \"BAMLH0A0HYM2\": 5.84}, {\"index\": 2729, \"DATE\": \"2010-04-30T00:00:00\", \"BAMLH0A0HYM2\": 5.61}, {\"index\": 2750, \"DATE\": \"2010-05-31T00:00:00\", \"BAMLH0A0HYM2\": 6.98}, {\"index\": 2772, \"DATE\": \"2010-06-30T00:00:00\", \"BAMLH0A0HYM2\": 7.13}, {\"index\": 2795, \"DATE\": \"2010-07-31T00:00:00\", \"BAMLH0A0HYM2\": 6.59}, {\"index\": 2817, \"DATE\": \"2010-08-31T00:00:00\", \"BAMLH0A0HYM2\": 6.92}, {\"index\": 2839, \"DATE\": \"2010-09-30T00:00:00\", \"BAMLH0A0HYM2\": 6.26}, {\"index\": 2861, \"DATE\": \"2010-10-31T00:00:00\", \"BAMLH0A0HYM2\": 5.93}, {\"index\": 2883, \"DATE\": \"2010-11-30T00:00:00\", \"BAMLH0A0HYM2\": 6.22}, {\"index\": 2906, \"DATE\": \"2010-12-31T00:00:00\", \"BAMLH0A0HYM2\": 5.41}, {\"index\": 2927, \"DATE\": \"2011-01-31T00:00:00\", \"BAMLH0A0HYM2\": 5.08}, {\"index\": 2947, \"DATE\": \"2011-02-28T00:00:00\", \"BAMLH0A0HYM2\": 4.78}, {\"index\": 2970, \"DATE\": \"2011-03-31T00:00:00\", \"BAMLH0A0HYM2\": 4.77}, {\"index\": 2992, \"DATE\": \"2011-04-30T00:00:00\", \"BAMLH0A0HYM2\": 4.76}, {\"index\": 3014, \"DATE\": \"2011-05-31T00:00:00\", \"BAMLH0A0HYM2\": 5.09}, {\"index\": 3036, \"DATE\": \"2011-06-30T00:00:00\", \"BAMLH0A0HYM2\": 5.42}, {\"index\": 3058, \"DATE\": \"2011-07-31T00:00:00\", \"BAMLH0A0HYM2\": 5.58}, {\"index\": 3081, \"DATE\": \"2011-08-31T00:00:00\", \"BAMLH0A0HYM2\": 7.3}, {\"index\": 3103, \"DATE\": \"2011-09-30T00:00:00\", \"BAMLH0A0HYM2\": 8.41}, {\"index\": 3124, \"DATE\": \"2011-10-31T00:00:00\", \"BAMLH0A0HYM2\": 7.07}, {\"index\": 3146, \"DATE\": \"2011-11-30T00:00:00\", \"BAMLH0A0HYM2\": 7.79}, {\"index\": 3169, \"DATE\": \"2011-12-31T00:00:00\", \"BAMLH0A0HYM2\": 7.23}, {\"index\": 3191, \"DATE\": \"2012-01-31T00:00:00\", \"BAMLH0A0HYM2\": 6.61}, {\"index\": 3212, \"DATE\": \"2012-02-29T00:00:00\", \"BAMLH0A0HYM2\": 5.98}, {\"index\": 3235, \"DATE\": \"2012-03-31T00:00:00\", \"BAMLH0A0HYM2\": 5.99}, {\"index\": 3256, \"DATE\": \"2012-04-30T00:00:00\", \"BAMLH0A0HYM2\": 6.04}, {\"index\": 3279, \"DATE\": \"2012-05-31T00:00:00\", \"BAMLH0A0HYM2\": 6.96}, {\"index\": 3301, \"DATE\": \"2012-06-30T00:00:00\", \"BAMLH0A0HYM2\": 6.44}, {\"index\": 3323, \"DATE\": \"2012-07-31T00:00:00\", \"BAMLH0A0HYM2\": 6.16}, {\"index\": 3346, \"DATE\": \"2012-08-31T00:00:00\", \"BAMLH0A0HYM2\": 5.98}, {\"index\": 3367, \"DATE\": \"2012-09-30T00:00:00\", \"BAMLH0A0HYM2\": 5.74}, {\"index\": 3390, \"DATE\": \"2012-10-31T00:00:00\", \"BAMLH0A0HYM2\": 5.63}, {\"index\": 3412, \"DATE\": \"2012-11-30T00:00:00\", \"BAMLH0A0HYM2\": 5.65}, {\"index\": 3433, \"DATE\": \"2012-12-31T00:00:00\", \"BAMLH0A0HYM2\": 5.34}, {\"index\": 3456, \"DATE\": \"2013-01-31T00:00:00\", \"BAMLH0A0HYM2\": 4.95}, {\"index\": 3476, \"DATE\": \"2013-02-28T00:00:00\", \"BAMLH0A0HYM2\": 4.98}, {\"index\": 3498, \"DATE\": \"2013-03-31T00:00:00\", \"BAMLH0A0HYM2\": 4.86}, {\"index\": 3520, \"DATE\": \"2013-04-30T00:00:00\", \"BAMLH0A0HYM2\": 4.55}, {\"index\": 3543, \"DATE\": \"2013-05-31T00:00:00\", \"BAMLH0A0HYM2\": 4.62}, {\"index\": 3564, \"DATE\": \"2013-06-30T00:00:00\", \"BAMLH0A0HYM2\": 5.21}, {\"index\": 3587, \"DATE\": \"2013-07-31T00:00:00\", \"BAMLH0A0HYM2\": 4.71}, {\"index\": 3608, \"DATE\": \"2013-08-29T00:00:00\", \"BAMLH0A0HYM2\": 4.76}, {\"index\": 3630, \"DATE\": \"2013-09-30T00:00:00\", \"BAMLH0A0HYM2\": 4.83}, {\"index\": 3653, \"DATE\": \"2013-10-31T00:00:00\", \"BAMLH0A0HYM2\": 4.36}, {\"index\": 3675, \"DATE\": \"2013-11-30T00:00:00\", \"BAMLH0A0HYM2\": 4.27}, {\"index\": 3697, \"DATE\": \"2013-12-31T00:00:00\", \"BAMLH0A0HYM2\": 4.0}, {\"index\": 3720, \"DATE\": \"2014-01-31T00:00:00\", \"BAMLH0A0HYM2\": 4.21}, {\"index\": 3740, \"DATE\": \"2014-02-28T00:00:00\", \"BAMLH0A0HYM2\": 3.81}, {\"index\": 3761, \"DATE\": \"2014-03-31T00:00:00\", \"BAMLH0A0HYM2\": 3.77}, {\"index\": 3783, \"DATE\": \"2014-04-30T00:00:00\", \"BAMLH0A0HYM2\": 3.71}, {\"index\": 3806, \"DATE\": \"2014-05-31T00:00:00\", \"BAMLH0A0HYM2\": 3.67}, {\"index\": 3827, \"DATE\": \"2014-06-30T00:00:00\", \"BAMLH0A0HYM2\": 3.53}, {\"index\": 3850, \"DATE\": \"2014-07-31T00:00:00\", \"BAMLH0A0HYM2\": 4.04}, {\"index\": 3872, \"DATE\": \"2014-08-31T00:00:00\", \"BAMLH0A0HYM2\": 3.84}, {\"index\": 3894, \"DATE\": \"2014-09-30T00:00:00\", \"BAMLH0A0HYM2\": 4.4}, {\"index\": 3917, \"DATE\": \"2014-10-31T00:00:00\", \"BAMLH0A0HYM2\": 4.3}, {\"index\": 3938, \"DATE\": \"2014-11-30T00:00:00\", \"BAMLH0A0HYM2\": 4.67}, {\"index\": 3961, \"DATE\": \"2014-12-31T00:00:00\", \"BAMLH0A0HYM2\": 5.04}, {\"index\": 3984, \"DATE\": \"2015-01-31T00:00:00\", \"BAMLH0A0HYM2\": 5.26}, {\"index\": 4005, \"DATE\": \"2015-02-28T00:00:00\", \"BAMLH0A0HYM2\": 4.46}, {\"index\": 4027, \"DATE\": \"2015-03-31T00:00:00\", \"BAMLH0A0HYM2\": 4.82}, {\"index\": 4049, \"DATE\": \"2015-04-30T00:00:00\", \"BAMLH0A0HYM2\": 4.59}, {\"index\": 4071, \"DATE\": \"2015-05-31T00:00:00\", \"BAMLH0A0HYM2\": 4.58}, {\"index\": 4093, \"DATE\": \"2015-06-30T00:00:00\", \"BAMLH0A0HYM2\": 5.0}, {\"index\": 4116, \"DATE\": \"2015-07-31T00:00:00\", \"BAMLH0A0HYM2\": 5.36}, {\"index\": 4137, \"DATE\": \"2015-08-31T00:00:00\", \"BAMLH0A0HYM2\": 5.7}, {\"index\": 4159, \"DATE\": \"2015-09-30T00:00:00\", \"BAMLH0A0HYM2\": 6.62}, {\"index\": 4182, \"DATE\": \"2015-10-31T00:00:00\", \"BAMLH0A0HYM2\": 5.9}, {\"index\": 4203, \"DATE\": \"2015-11-30T00:00:00\", \"BAMLH0A0HYM2\": 6.4}, {\"index\": 4226, \"DATE\": \"2015-12-31T00:00:00\", \"BAMLH0A0HYM2\": 6.95}, {\"index\": 4248, \"DATE\": \"2016-01-31T00:00:00\", \"BAMLH0A0HYM2\": 7.77}, {\"index\": 4269, \"DATE\": \"2016-02-29T00:00:00\", \"BAMLH0A0HYM2\": 7.75}, {\"index\": 4292, \"DATE\": \"2016-03-31T00:00:00\", \"BAMLH0A0HYM2\": 7.05}, {\"index\": 4314, \"DATE\": \"2016-04-30T00:00:00\", \"BAMLH0A0HYM2\": 6.21}, {\"index\": 4336, \"DATE\": \"2016-05-31T00:00:00\", \"BAMLH0A0HYM2\": 5.97}, {\"index\": 4358, \"DATE\": \"2016-06-30T00:00:00\", \"BAMLH0A0HYM2\": 6.21}, {\"index\": 4380, \"DATE\": \"2016-07-31T00:00:00\", \"BAMLH0A0HYM2\": 5.69}, {\"index\": 4403, \"DATE\": \"2016-08-31T00:00:00\", \"BAMLH0A0HYM2\": 5.1}, {\"index\": 4425, \"DATE\": \"2016-09-30T00:00:00\", \"BAMLH0A0HYM2\": 4.97}, {\"index\": 4446, \"DATE\": \"2016-10-31T00:00:00\", \"BAMLH0A0HYM2\": 4.91}, {\"index\": 4468, \"DATE\": \"2016-11-30T00:00:00\", \"BAMLH0A0HYM2\": 4.67}, {\"index\": 4491, \"DATE\": \"2016-12-31T00:00:00\", \"BAMLH0A0HYM2\": 4.22}, {\"index\": 4513, \"DATE\": \"2017-01-31T00:00:00\", \"BAMLH0A0HYM2\": 4.0}, {\"index\": 4533, \"DATE\": \"2017-02-28T00:00:00\", \"BAMLH0A0HYM2\": 3.74}, {\"index\": 4556, \"DATE\": \"2017-03-31T00:00:00\", \"BAMLH0A0HYM2\": 3.92}, {\"index\": 4577, \"DATE\": \"2017-04-30T00:00:00\", \"BAMLH0A0HYM2\": 3.81}, {\"index\": 4600, \"DATE\": \"2017-05-31T00:00:00\", \"BAMLH0A0HYM2\": 3.74}, {\"index\": 4622, \"DATE\": \"2017-06-30T00:00:00\", \"BAMLH0A0HYM2\": 3.77}, {\"index\": 4643, \"DATE\": \"2017-07-31T00:00:00\", \"BAMLH0A0HYM2\": 3.61}, {\"index\": 4666, \"DATE\": \"2017-08-31T00:00:00\", \"BAMLH0A0HYM2\": 3.85}, {\"index\": 4688, \"DATE\": \"2017-09-30T00:00:00\", \"BAMLH0A0HYM2\": 3.56}, {\"index\": 4710, \"DATE\": \"2017-10-31T00:00:00\", \"BAMLH0A0HYM2\": 3.51}, {\"index\": 4732, \"DATE\": \"2017-11-30T00:00:00\", \"BAMLH0A0HYM2\": 3.61}, {\"index\": 4754, \"DATE\": \"2017-12-31T00:00:00\", \"BAMLH0A0HYM2\": 3.63}, {\"index\": 4777, \"DATE\": \"2018-01-31T00:00:00\", \"BAMLH0A0HYM2\": 3.29}, {\"index\": 4797, \"DATE\": \"2018-02-28T00:00:00\", \"BAMLH0A0HYM2\": 3.47}, {\"index\": 4820, \"DATE\": \"2018-03-31T00:00:00\", \"BAMLH0A0HYM2\": 3.72}, {\"index\": 4841, \"DATE\": \"2018-04-30T00:00:00\", \"BAMLH0A0HYM2\": 3.46}, {\"index\": 4864, \"DATE\": \"2018-05-31T00:00:00\", \"BAMLH0A0HYM2\": 3.63}, {\"index\": 4886, \"DATE\": \"2018-06-30T00:00:00\", \"BAMLH0A0HYM2\": 3.71}, {\"index\": 4908, \"DATE\": \"2018-07-31T00:00:00\", \"BAMLH0A0HYM2\": 3.46}, {\"index\": 4931, \"DATE\": \"2018-08-31T00:00:00\", \"BAMLH0A0HYM2\": 3.49}, {\"index\": 4952, \"DATE\": \"2018-09-30T00:00:00\", \"BAMLH0A0HYM2\": 3.28}, {\"index\": 4975, \"DATE\": \"2018-10-31T00:00:00\", \"BAMLH0A0HYM2\": 3.81}, {\"index\": 4997, \"DATE\": \"2018-11-30T00:00:00\", \"BAMLH0A0HYM2\": 4.29}, {\"index\": 5018, \"DATE\": \"2018-12-31T00:00:00\", \"BAMLH0A0HYM2\": 5.33}, {\"index\": 5041, \"DATE\": \"2019-01-31T00:00:00\", \"BAMLH0A0HYM2\": 4.37}, {\"index\": 5061, \"DATE\": \"2019-02-28T00:00:00\", \"BAMLH0A0HYM2\": 3.92}, {\"index\": 5083, \"DATE\": \"2019-03-31T00:00:00\", \"BAMLH0A0HYM2\": 4.05}, {\"index\": 5105, \"DATE\": \"2019-04-30T00:00:00\", \"BAMLH0A0HYM2\": 3.73}, {\"index\": 5128, \"DATE\": \"2019-05-31T00:00:00\", \"BAMLH0A0HYM2\": 4.59}, {\"index\": 5149, \"DATE\": \"2019-06-30T00:00:00\", \"BAMLH0A0HYM2\": 4.07}, {\"index\": 5172, \"DATE\": \"2019-07-31T00:00:00\", \"BAMLH0A0HYM2\": 3.93}, {\"index\": 5195, \"DATE\": \"2019-08-31T00:00:00\", \"BAMLH0A0HYM2\": 4.13}, {\"index\": 5216, \"DATE\": \"2019-09-30T00:00:00\", \"BAMLH0A0HYM2\": 4.02}, {\"index\": 5239, \"DATE\": \"2019-10-31T00:00:00\", \"BAMLH0A0HYM2\": 4.15}, {\"index\": 5261, \"DATE\": \"2019-11-30T00:00:00\", \"BAMLH0A0HYM2\": 4.02}, {\"index\": 5283, \"DATE\": \"2019-12-31T00:00:00\", \"BAMLH0A0HYM2\": 3.6}, {\"index\": 5306, \"DATE\": \"2020-01-31T00:00:00\", \"BAMLH0A0HYM2\": 4.03}, {\"index\": 5327, \"DATE\": \"2020-02-29T00:00:00\", \"BAMLH0A0HYM2\": 5.06}, {\"index\": 5349, \"DATE\": \"2020-03-31T00:00:00\", \"BAMLH0A0HYM2\": 8.77}, {\"index\": 5371, \"DATE\": \"2020-04-30T00:00:00\", \"BAMLH0A0HYM2\": 7.63}, {\"index\": 5393, \"DATE\": \"2020-05-31T00:00:00\", \"BAMLH0A0HYM2\": 6.54}, {\"index\": 5415, \"DATE\": \"2020-06-30T00:00:00\", \"BAMLH0A0HYM2\": 6.44}, {\"index\": 5438, \"DATE\": \"2020-07-31T00:00:00\", \"BAMLH0A0HYM2\": 5.16}, {\"index\": 5459, \"DATE\": \"2020-08-31T00:00:00\", \"BAMLH0A0HYM2\": 5.02}, {\"index\": 5481, \"DATE\": \"2020-09-30T00:00:00\", \"BAMLH0A0HYM2\": 5.41}, {\"index\": 5504, \"DATE\": \"2020-10-31T00:00:00\", \"BAMLH0A0HYM2\": 5.32}, {\"index\": 5525, \"DATE\": \"2020-11-30T00:00:00\", \"BAMLH0A0HYM2\": 4.33}, {\"index\": 5548, \"DATE\": \"2020-12-31T00:00:00\", \"BAMLH0A0HYM2\": 3.86}], \"data-5dfce89290c40f96d321b9bfa30cae7a\": [{\"index\": 0, \"DATE\": \"2000-01-01T00:00:00\", \"DRTSCIS\": 9.4}, {\"index\": 1, \"DATE\": \"2000-04-01T00:00:00\", \"DRTSCIS\": 21.4}, {\"index\": 2, \"DATE\": \"2000-07-01T00:00:00\", \"DRTSCIS\": 23.6}, {\"index\": 3, \"DATE\": \"2000-10-01T00:00:00\", \"DRTSCIS\": 27.3}, {\"index\": 4, \"DATE\": \"2001-01-01T00:00:00\", \"DRTSCIS\": 45.5}, {\"index\": 5, \"DATE\": \"2001-04-01T00:00:00\", \"DRTSCIS\": 36.4}, {\"index\": 6, \"DATE\": \"2001-07-01T00:00:00\", \"DRTSCIS\": 31.6}, {\"index\": 7, \"DATE\": \"2001-10-01T00:00:00\", \"DRTSCIS\": 40.4}, {\"index\": 8, \"DATE\": \"2002-01-01T00:00:00\", \"DRTSCIS\": 41.8}, {\"index\": 9, \"DATE\": \"2002-04-01T00:00:00\", \"DRTSCIS\": 14.5}, {\"index\": 10, \"DATE\": \"2002-07-01T00:00:00\", \"DRTSCIS\": 5.5}, {\"index\": 11, \"DATE\": \"2002-10-01T00:00:00\", \"DRTSCIS\": 18.2}, {\"index\": 12, \"DATE\": \"2003-01-01T00:00:00\", \"DRTSCIS\": 13.8}, {\"index\": 13, \"DATE\": \"2003-04-01T00:00:00\", \"DRTSCIS\": 12.7}, {\"index\": 14, \"DATE\": \"2003-07-01T00:00:00\", \"DRTSCIS\": 3.5}, {\"index\": 15, \"DATE\": \"2003-10-01T00:00:00\", \"DRTSCIS\": -1.8}, {\"index\": 16, \"DATE\": \"2004-01-01T00:00:00\", \"DRTSCIS\": -10.9}, {\"index\": 17, \"DATE\": \"2004-04-01T00:00:00\", \"DRTSCIS\": -19.3}, {\"index\": 18, \"DATE\": \"2004-07-01T00:00:00\", \"DRTSCIS\": -3.6}, {\"index\": 19, \"DATE\": \"2004-10-01T00:00:00\", \"DRTSCIS\": -18.2}, {\"index\": 20, \"DATE\": \"2005-01-01T00:00:00\", \"DRTSCIS\": -13.0}, {\"index\": 21, \"DATE\": \"2005-04-01T00:00:00\", \"DRTSCIS\": -24.1}, {\"index\": 22, \"DATE\": \"2005-07-01T00:00:00\", \"DRTSCIS\": -11.1}, {\"index\": 23, \"DATE\": \"2005-10-01T00:00:00\", \"DRTSCIS\": -5.3}, {\"index\": 24, \"DATE\": \"2006-01-01T00:00:00\", \"DRTSCIS\": -7.1}, {\"index\": 25, \"DATE\": \"2006-04-01T00:00:00\", \"DRTSCIS\": -7.0}, {\"index\": 26, \"DATE\": \"2006-07-01T00:00:00\", \"DRTSCIS\": -1.8}, {\"index\": 27, \"DATE\": \"2006-10-01T00:00:00\", \"DRTSCIS\": -1.9}, {\"index\": 28, \"DATE\": \"2007-01-01T00:00:00\", \"DRTSCIS\": 5.4}, {\"index\": 29, \"DATE\": \"2007-04-01T00:00:00\", \"DRTSCIS\": 1.9}, {\"index\": 30, \"DATE\": \"2007-07-01T00:00:00\", \"DRTSCIS\": 7.7}, {\"index\": 31, \"DATE\": \"2007-10-01T00:00:00\", \"DRTSCIS\": 9.6}, {\"index\": 32, \"DATE\": \"2008-01-01T00:00:00\", \"DRTSCIS\": 30.4}, {\"index\": 33, \"DATE\": \"2008-04-01T00:00:00\", \"DRTSCIS\": 51.8}, {\"index\": 34, \"DATE\": \"2008-07-01T00:00:00\", \"DRTSCIS\": 65.4}, {\"index\": 35, \"DATE\": \"2008-10-01T00:00:00\", \"DRTSCIS\": 74.5}, {\"index\": 36, \"DATE\": \"2009-01-01T00:00:00\", \"DRTSCIS\": 69.2}, {\"index\": 37, \"DATE\": \"2009-04-01T00:00:00\", \"DRTSCIS\": 42.3}, {\"index\": 38, \"DATE\": \"2009-07-01T00:00:00\", \"DRTSCIS\": 34.0}, {\"index\": 39, \"DATE\": \"2009-10-01T00:00:00\", \"DRTSCIS\": 16.1}, {\"index\": 40, \"DATE\": \"2010-01-01T00:00:00\", \"DRTSCIS\": 3.7}, {\"index\": 41, \"DATE\": \"2010-04-01T00:00:00\", \"DRTSCIS\": 0.0}, {\"index\": 42, \"DATE\": \"2010-07-01T00:00:00\", \"DRTSCIS\": -9.1}, {\"index\": 43, \"DATE\": \"2010-10-01T00:00:00\", \"DRTSCIS\": -7.1}, {\"index\": 44, \"DATE\": \"2011-01-01T00:00:00\", \"DRTSCIS\": -1.9}, {\"index\": 45, \"DATE\": \"2011-04-01T00:00:00\", \"DRTSCIS\": -13.5}, {\"index\": 46, \"DATE\": \"2011-07-01T00:00:00\", \"DRTSCIS\": -7.8}, {\"index\": 47, \"DATE\": \"2011-10-01T00:00:00\", \"DRTSCIS\": -6.3}, {\"index\": 48, \"DATE\": \"2012-01-01T00:00:00\", \"DRTSCIS\": 1.9}, {\"index\": 49, \"DATE\": \"2012-04-01T00:00:00\", \"DRTSCIS\": -1.8}, {\"index\": 50, \"DATE\": \"2012-07-01T00:00:00\", \"DRTSCIS\": -4.9}, {\"index\": 51, \"DATE\": \"2012-10-01T00:00:00\", \"DRTSCIS\": -7.6}, {\"index\": 52, \"DATE\": \"2013-01-01T00:00:00\", \"DRTSCIS\": -7.7}, {\"index\": 53, \"DATE\": \"2013-04-01T00:00:00\", \"DRTSCIS\": -23.1}, {\"index\": 54, \"DATE\": \"2013-07-01T00:00:00\", \"DRTSCIS\": -10.0}, {\"index\": 55, \"DATE\": \"2013-10-01T00:00:00\", \"DRTSCIS\": -7.1}, {\"index\": 56, \"DATE\": \"2014-01-01T00:00:00\", \"DRTSCIS\": -4.2}, {\"index\": 57, \"DATE\": \"2014-04-01T00:00:00\", \"DRTSCIS\": -7.0}, {\"index\": 58, \"DATE\": \"2014-07-01T00:00:00\", \"DRTSCIS\": -8.3}, {\"index\": 59, \"DATE\": \"2014-10-01T00:00:00\", \"DRTSCIS\": -8.2}, {\"index\": 60, \"DATE\": \"2015-01-01T00:00:00\", \"DRTSCIS\": -5.7}, {\"index\": 61, \"DATE\": \"2015-04-01T00:00:00\", \"DRTSCIS\": -1.4}, {\"index\": 62, \"DATE\": \"2015-07-01T00:00:00\", \"DRTSCIS\": -6.0}, {\"index\": 63, \"DATE\": \"2015-10-01T00:00:00\", \"DRTSCIS\": 1.5}, {\"index\": 64, \"DATE\": \"2016-01-01T00:00:00\", \"DRTSCIS\": 4.2}, {\"index\": 65, \"DATE\": \"2016-04-01T00:00:00\", \"DRTSCIS\": 5.8}, {\"index\": 66, \"DATE\": \"2016-07-01T00:00:00\", \"DRTSCIS\": 7.1}, {\"index\": 67, \"DATE\": \"2016-10-01T00:00:00\", \"DRTSCIS\": -1.5}, {\"index\": 68, \"DATE\": \"2017-01-01T00:00:00\", \"DRTSCIS\": 0.0}, {\"index\": 69, \"DATE\": \"2017-04-01T00:00:00\", \"DRTSCIS\": -2.9}, {\"index\": 70, \"DATE\": \"2017-07-01T00:00:00\", \"DRTSCIS\": -4.1}, {\"index\": 71, \"DATE\": \"2017-10-01T00:00:00\", \"DRTSCIS\": -8.8}, {\"index\": 72, \"DATE\": \"2018-01-01T00:00:00\", \"DRTSCIS\": 0.0}, {\"index\": 73, \"DATE\": \"2018-04-01T00:00:00\", \"DRTSCIS\": -3.0}, {\"index\": 74, \"DATE\": \"2018-07-01T00:00:00\", \"DRTSCIS\": -7.6}, {\"index\": 75, \"DATE\": \"2018-10-01T00:00:00\", \"DRTSCIS\": -3.1}, {\"index\": 76, \"DATE\": \"2019-01-01T00:00:00\", \"DRTSCIS\": 4.3}, {\"index\": 77, \"DATE\": \"2019-04-01T00:00:00\", \"DRTSCIS\": 0.0}, {\"index\": 78, \"DATE\": \"2019-07-01T00:00:00\", \"DRTSCIS\": -5.8}, {\"index\": 79, \"DATE\": \"2019-10-01T00:00:00\", \"DRTSCIS\": 5.6}, {\"index\": 80, \"DATE\": \"2020-01-01T00:00:00\", \"DRTSCIS\": -1.4}, {\"index\": 81, \"DATE\": \"2020-04-01T00:00:00\", \"DRTSCIS\": 39.7}, {\"index\": 82, \"DATE\": \"2020-07-01T00:00:00\", \"DRTSCIS\": 70.0}, {\"index\": 83, \"DATE\": \"2020-10-01T00:00:00\", \"DRTSCIS\": 31.3}], \"data-4c6f780913a45f81a467345005541598\": [{\"value\": 0}]}}, {\"mode\": \"vega-lite\"});\n",
       "</script>"
      ],
      "text/plain": [
       "alt.LayerChart(...)"
      ]
     },
     "execution_count": 14,
     "metadata": {},
     "output_type": "execute_result"
    }
   ],
   "source": [
    "def plotter(df1,df2,dr):\n",
    "    l1=alt.Chart(df1.reset_index())\\\n",
    "        .mark_line(\n",
    "        line=True,\n",
    "        color='#A53F3D'\n",
    "        ).encode(\n",
    "        x='DATE:T',\n",
    "        y=alt.Y('DRTSCIS:Q', \n",
    "                title='Percent', \n",
    "                scale=alt.Scale(domain=(-30, 90)),\n",
    "                axis=alt.Axis(\n",
    "                    format= \".0f\",\n",
    "                    tickCount=9,\n",
    "                    titleFontWeight='normal',\n",
    "                    values=[15*i for i in range(-2,7)]\n",
    "                )\n",
    "               )\n",
    "    )\n",
    "    l2=alt.Chart(df2.reset_index())\\\n",
    "        .mark_line(\n",
    "        line=True,\n",
    "        color='#557CAA'\n",
    "        ).encode(\n",
    "        x=alt.X('DATE:T', \n",
    "                title=None,\n",
    "                axis=alt.Axis(\n",
    "                    grid=False,\n",
    "                )\n",
    "               ),\n",
    "        y=alt.Y('BAMLH0A0HYM2:Q', \n",
    "                title='Percent', \n",
    "                scale=alt.Scale(domain=[0, 20]),\n",
    "                axis=alt.Axis(\n",
    "                    format= \".1f\",\n",
    "                    grid=True,\n",
    "                    tickCount=9,\n",
    "                    titleFontWeight='normal',\n",
    "                    values=[2.5*i for i in range(9)]\n",
    "                )\n",
    "               )\n",
    "    )\n",
    "    rect = alt.Chart(dr).mark_rect(\n",
    "        blend='darken'\n",
    "    ).encode(\n",
    "        x='start:T',\n",
    "        x2='end:T',\n",
    "        color=alt.Color('color:N',scale=None),\n",
    "    ).properties(\n",
    "        width=700,\n",
    "        height=250\n",
    "    )\n",
    "    l = alt.Chart(pd.DataFrame([{'value':0}])).mark_rule(size=3).encode(\n",
    "        y=alt.Y('value:Q', \n",
    "                title=None, \n",
    "                scale=alt.Scale(domain=[0, 20]),\n",
    "                axis=alt.Axis(\n",
    "                    values=[],\n",
    "                    grid=False\n",
    "                )\n",
    "               ),\n",
    "    )\n",
    "    return (rect)+((l2+l1+l).resolve_scale(y='independent'))+l\n",
    "plotter(df1,df2,dr)"
   ]
  },
  {
   "cell_type": "code",
   "execution_count": 15,
   "metadata": {},
   "outputs": [],
   "source": [
    "df1['DATE']=pd.to_datetime(df1['DATE'].dt.year.astype(str)+'-'+(df1['DATE'].dt.month+1).astype(str)+'-01')+pd.to_timedelta('-1d')"
   ]
  },
  {
   "cell_type": "code",
   "execution_count": 16,
   "metadata": {},
   "outputs": [
    {
     "data": {
      "text/html": [
       "\n",
       "<div id=\"altair-viz-240388d621a04d6abf8658b430f73373\"></div>\n",
       "<script type=\"text/javascript\">\n",
       "  (function(spec, embedOpt){\n",
       "    let outputDiv = document.currentScript.previousElementSibling;\n",
       "    if (outputDiv.id !== \"altair-viz-240388d621a04d6abf8658b430f73373\") {\n",
       "      outputDiv = document.getElementById(\"altair-viz-240388d621a04d6abf8658b430f73373\");\n",
       "    }\n",
       "    const paths = {\n",
       "      \"vega\": \"https://cdn.jsdelivr.net/npm//vega@5?noext\",\n",
       "      \"vega-lib\": \"https://cdn.jsdelivr.net/npm//vega-lib?noext\",\n",
       "      \"vega-lite\": \"https://cdn.jsdelivr.net/npm//vega-lite@4.8.1?noext\",\n",
       "      \"vega-embed\": \"https://cdn.jsdelivr.net/npm//vega-embed@6?noext\",\n",
       "    };\n",
       "\n",
       "    function loadScript(lib) {\n",
       "      return new Promise(function(resolve, reject) {\n",
       "        var s = document.createElement('script');\n",
       "        s.src = paths[lib];\n",
       "        s.async = true;\n",
       "        s.onload = () => resolve(paths[lib]);\n",
       "        s.onerror = () => reject(`Error loading script: ${paths[lib]}`);\n",
       "        document.getElementsByTagName(\"head\")[0].appendChild(s);\n",
       "      });\n",
       "    }\n",
       "\n",
       "    function showError(err) {\n",
       "      outputDiv.innerHTML = `<div class=\"error\" style=\"color:red;\">${err}</div>`;\n",
       "      throw err;\n",
       "    }\n",
       "\n",
       "    function displayChart(vegaEmbed) {\n",
       "      vegaEmbed(outputDiv, spec, embedOpt)\n",
       "        .catch(err => showError(`Javascript Error: ${err.message}<br>This usually means there's a typo in your chart specification. See the javascript console for the full traceback.`));\n",
       "    }\n",
       "\n",
       "    if(typeof define === \"function\" && define.amd) {\n",
       "      requirejs.config({paths});\n",
       "      require([\"vega-embed\"], displayChart, err => showError(`Error loading script: ${err.message}`));\n",
       "    } else if (typeof vegaEmbed === \"function\") {\n",
       "      displayChart(vegaEmbed);\n",
       "    } else {\n",
       "      loadScript(\"vega\")\n",
       "        .then(() => loadScript(\"vega-lite\"))\n",
       "        .then(() => loadScript(\"vega-embed\"))\n",
       "        .catch(showError)\n",
       "        .then(() => displayChart(vegaEmbed));\n",
       "    }\n",
       "  })({\"config\": {\"view\": {\"continuousWidth\": 400, \"continuousHeight\": 300}}, \"layer\": [{\"data\": {\"name\": \"data-2b08226b30bbb08a20f45bc01ddaafde\"}, \"mark\": {\"type\": \"rect\", \"blend\": \"darken\"}, \"encoding\": {\"color\": {\"type\": \"nominal\", \"field\": \"color\", \"scale\": null}, \"x\": {\"type\": \"temporal\", \"field\": \"start\"}, \"x2\": {\"field\": \"end\"}}, \"height\": 250, \"width\": 700}, {\"layer\": [{\"data\": {\"name\": \"data-aabda36bdbddb46b357052b4840408ae\"}, \"mark\": {\"type\": \"line\", \"color\": \"#557CAA\", \"line\": true}, \"encoding\": {\"x\": {\"type\": \"temporal\", \"axis\": {\"grid\": false}, \"field\": \"DATE\", \"title\": null}, \"y\": {\"type\": \"quantitative\", \"axis\": {\"format\": \".1f\", \"grid\": true, \"tickCount\": 9, \"titleFontWeight\": \"normal\", \"values\": [0.0, 2.5, 5.0, 7.5, 10.0, 12.5, 15.0, 17.5, 20.0]}, \"field\": \"BAMLH0A0HYM2\", \"scale\": {\"domain\": [0, 20]}, \"title\": \"Percent\"}}}, {\"data\": {\"name\": \"data-fb17600278770dc02096e7026f827d88\"}, \"mark\": {\"type\": \"line\", \"color\": \"#A53F3D\", \"line\": true}, \"encoding\": {\"x\": {\"type\": \"temporal\", \"field\": \"DATE\"}, \"y\": {\"type\": \"quantitative\", \"axis\": {\"format\": \".0f\", \"tickCount\": 9, \"titleFontWeight\": \"normal\", \"values\": [-30, -15, 0, 15, 30, 45, 60, 75, 90]}, \"field\": \"DRTSCIS\", \"scale\": {\"domain\": [-30, 90]}, \"title\": \"Percent\"}}}, {\"data\": {\"name\": \"data-4c6f780913a45f81a467345005541598\"}, \"mark\": {\"type\": \"rule\", \"size\": 3}, \"encoding\": {\"y\": {\"type\": \"quantitative\", \"axis\": {\"grid\": false, \"values\": []}, \"field\": \"value\", \"scale\": {\"domain\": [0, 20]}, \"title\": null}}}], \"resolve\": {\"scale\": {\"y\": \"independent\"}}}, {\"data\": {\"name\": \"data-4c6f780913a45f81a467345005541598\"}, \"mark\": {\"type\": \"rule\", \"size\": 3}, \"encoding\": {\"y\": {\"type\": \"quantitative\", \"axis\": {\"grid\": false, \"values\": []}, \"field\": \"value\", \"scale\": {\"domain\": [0, 20]}, \"title\": null}}}], \"$schema\": \"https://vega.github.io/schema/vega-lite/v4.8.1.json\", \"datasets\": {\"data-2b08226b30bbb08a20f45bc01ddaafde\": [{\"start\": \"2001-03-31\", \"end\": \"2001-11-30\", \"event\": \"recession\", \"color\": \"#E2E2E2\"}, {\"start\": \"2007-12-31\", \"end\": \"2009-06-30\", \"event\": \"recession\", \"color\": \"#E2E2E2\"}, {\"start\": \"2020-02-29\", \"end\": \"2021-04-01\", \"event\": \"covid\", \"color\": \"#F3F4D8\"}], \"data-aabda36bdbddb46b357052b4840408ae\": [{\"index\": 20, \"DATE\": \"2000-01-31T00:00:00\", \"BAMLH0A0HYM2\": 4.87}, {\"index\": 41, \"DATE\": \"2000-02-29T00:00:00\", \"BAMLH0A0HYM2\": 5.08}, {\"index\": 64, \"DATE\": \"2000-03-31T00:00:00\", \"BAMLH0A0HYM2\": 5.75}, {\"index\": 85, \"DATE\": \"2000-04-30T00:00:00\", \"BAMLH0A0HYM2\": 5.88}, {\"index\": 108, \"DATE\": \"2000-05-31T00:00:00\", \"BAMLH0A0HYM2\": 6.16}, {\"index\": 130, \"DATE\": \"2000-06-30T00:00:00\", \"BAMLH0A0HYM2\": 6.17}, {\"index\": 151, \"DATE\": \"2000-07-31T00:00:00\", \"BAMLH0A0HYM2\": 6.26}, {\"index\": 174, \"DATE\": \"2000-08-31T00:00:00\", \"BAMLH0A0HYM2\": 6.43}, {\"index\": 196, \"DATE\": \"2000-09-30T00:00:00\", \"BAMLH0A0HYM2\": 6.77}, {\"index\": 218, \"DATE\": \"2000-10-31T00:00:00\", \"BAMLH0A0HYM2\": 7.79}, {\"index\": 240, \"DATE\": \"2000-11-30T00:00:00\", \"BAMLH0A0HYM2\": 9.06}, {\"index\": 262, \"DATE\": \"2000-12-31T00:00:00\", \"BAMLH0A0HYM2\": 9.16}, {\"index\": 285, \"DATE\": \"2001-01-31T00:00:00\", \"BAMLH0A0HYM2\": 7.87}, {\"index\": 305, \"DATE\": \"2001-02-28T00:00:00\", \"BAMLH0A0HYM2\": 7.7}, {\"index\": 328, \"DATE\": \"2001-03-31T00:00:00\", \"BAMLH0A0HYM2\": 8.18}, {\"index\": 349, \"DATE\": \"2001-04-30T00:00:00\", \"BAMLH0A0HYM2\": 8.06}, {\"index\": 372, \"DATE\": \"2001-05-31T00:00:00\", \"BAMLH0A0HYM2\": 7.68}, {\"index\": 394, \"DATE\": \"2001-06-30T00:00:00\", \"BAMLH0A0HYM2\": 8.16}, {\"index\": 416, \"DATE\": \"2001-07-31T00:00:00\", \"BAMLH0A0HYM2\": 8.27}, {\"index\": 439, \"DATE\": \"2001-08-31T00:00:00\", \"BAMLH0A0HYM2\": 8.05}, {\"index\": 460, \"DATE\": \"2001-09-30T00:00:00\", \"BAMLH0A0HYM2\": 10.18}, {\"index\": 483, \"DATE\": \"2001-10-31T00:00:00\", \"BAMLH0A0HYM2\": 9.61}, {\"index\": 505, \"DATE\": \"2001-11-30T00:00:00\", \"BAMLH0A0HYM2\": 8.39}, {\"index\": 526, \"DATE\": \"2001-12-31T00:00:00\", \"BAMLH0A0HYM2\": 8.24}, {\"index\": 549, \"DATE\": \"2002-01-31T00:00:00\", \"BAMLH0A0HYM2\": 7.89}, {\"index\": 569, \"DATE\": \"2002-02-28T00:00:00\", \"BAMLH0A0HYM2\": 8.19}, {\"index\": 591, \"DATE\": \"2002-03-31T00:00:00\", \"BAMLH0A0HYM2\": 7.08}, {\"index\": 613, \"DATE\": \"2002-04-30T00:00:00\", \"BAMLH0A0HYM2\": 6.88}, {\"index\": 636, \"DATE\": \"2002-05-31T00:00:00\", \"BAMLH0A0HYM2\": 7.28}, {\"index\": 657, \"DATE\": \"2002-06-30T00:00:00\", \"BAMLH0A0HYM2\": 8.75}, {\"index\": 680, \"DATE\": \"2002-07-31T00:00:00\", \"BAMLH0A0HYM2\": 9.71}, {\"index\": 703, \"DATE\": \"2002-08-31T00:00:00\", \"BAMLH0A0HYM2\": 9.61}, {\"index\": 724, \"DATE\": \"2002-09-30T00:00:00\", \"BAMLH0A0HYM2\": 10.33}, {\"index\": 747, \"DATE\": \"2002-10-31T00:00:00\", \"BAMLH0A0HYM2\": 10.59}, {\"index\": 769, \"DATE\": \"2002-11-30T00:00:00\", \"BAMLH0A0HYM2\": 8.83}, {\"index\": 791, \"DATE\": \"2002-12-31T00:00:00\", \"BAMLH0A0HYM2\": 8.9}, {\"index\": 814, \"DATE\": \"2003-01-31T00:00:00\", \"BAMLH0A0HYM2\": 8.29}, {\"index\": 834, \"DATE\": \"2003-02-28T00:00:00\", \"BAMLH0A0HYM2\": 8.38}, {\"index\": 855, \"DATE\": \"2003-03-31T00:00:00\", \"BAMLH0A0HYM2\": 7.72}, {\"index\": 877, \"DATE\": \"2003-04-30T00:00:00\", \"BAMLH0A0HYM2\": 6.44}, {\"index\": 900, \"DATE\": \"2003-05-31T00:00:00\", \"BAMLH0A0HYM2\": 6.79}, {\"index\": 921, \"DATE\": \"2003-06-30T00:00:00\", \"BAMLH0A0HYM2\": 6.13}, {\"index\": 944, \"DATE\": \"2003-07-31T00:00:00\", \"BAMLH0A0HYM2\": 5.67}, {\"index\": 966, \"DATE\": \"2003-08-31T00:00:00\", \"BAMLH0A0HYM2\": 5.46}, {\"index\": 988, \"DATE\": \"2003-09-30T00:00:00\", \"BAMLH0A0HYM2\": 5.51}, {\"index\": 1011, \"DATE\": \"2003-10-31T00:00:00\", \"BAMLH0A0HYM2\": 4.73}, {\"index\": 1032, \"DATE\": \"2003-11-30T00:00:00\", \"BAMLH0A0HYM2\": 4.48}, {\"index\": 1055, \"DATE\": \"2003-12-31T00:00:00\", \"BAMLH0A0HYM2\": 4.18}, {\"index\": 1078, \"DATE\": \"2004-01-31T00:00:00\", \"BAMLH0A0HYM2\": 4.05}, {\"index\": 1099, \"DATE\": \"2004-02-29T00:00:00\", \"BAMLH0A0HYM2\": 4.34}, {\"index\": 1122, \"DATE\": \"2004-03-31T00:00:00\", \"BAMLH0A0HYM2\": 4.41}, {\"index\": 1144, \"DATE\": \"2004-04-30T00:00:00\", \"BAMLH0A0HYM2\": 3.91}, {\"index\": 1165, \"DATE\": \"2004-05-31T00:00:00\", \"BAMLH0A0HYM2\": 4.28}, {\"index\": 1187, \"DATE\": \"2004-06-30T00:00:00\", \"BAMLH0A0HYM2\": 4.1}, {\"index\": 1210, \"DATE\": \"2004-07-31T00:00:00\", \"BAMLH0A0HYM2\": 4.02}, {\"index\": 1232, \"DATE\": \"2004-08-31T00:00:00\", \"BAMLH0A0HYM2\": 4.06}, {\"index\": 1254, \"DATE\": \"2004-09-30T00:00:00\", \"BAMLH0A0HYM2\": 3.83}, {\"index\": 1276, \"DATE\": \"2004-10-31T00:00:00\", \"BAMLH0A0HYM2\": 3.63}, {\"index\": 1298, \"DATE\": \"2004-11-30T00:00:00\", \"BAMLH0A0HYM2\": 3.17}, {\"index\": 1321, \"DATE\": \"2004-12-31T00:00:00\", \"BAMLH0A0HYM2\": 3.1}, {\"index\": 1342, \"DATE\": \"2005-01-31T00:00:00\", \"BAMLH0A0HYM2\": 3.29}, {\"index\": 1362, \"DATE\": \"2005-02-28T00:00:00\", \"BAMLH0A0HYM2\": 2.83}, {\"index\": 1385, \"DATE\": \"2005-03-31T00:00:00\", \"BAMLH0A0HYM2\": 3.52}, {\"index\": 1407, \"DATE\": \"2005-04-30T00:00:00\", \"BAMLH0A0HYM2\": 4.19}, {\"index\": 1429, \"DATE\": \"2005-05-31T00:00:00\", \"BAMLH0A0HYM2\": 4.13}, {\"index\": 1451, \"DATE\": \"2005-06-30T00:00:00\", \"BAMLH0A0HYM2\": 3.85}, {\"index\": 1473, \"DATE\": \"2005-07-31T00:00:00\", \"BAMLH0A0HYM2\": 3.3}, {\"index\": 1496, \"DATE\": \"2005-08-31T00:00:00\", \"BAMLH0A0HYM2\": 3.66}, {\"index\": 1518, \"DATE\": \"2005-09-30T00:00:00\", \"BAMLH0A0HYM2\": 3.54}, {\"index\": 1539, \"DATE\": \"2005-10-31T00:00:00\", \"BAMLH0A0HYM2\": 3.61}, {\"index\": 1561, \"DATE\": \"2005-11-30T00:00:00\", \"BAMLH0A0HYM2\": 3.67}, {\"index\": 1584, \"DATE\": \"2005-12-31T00:00:00\", \"BAMLH0A0HYM2\": 3.71}, {\"index\": 1606, \"DATE\": \"2006-01-31T00:00:00\", \"BAMLH0A0HYM2\": 3.42}, {\"index\": 1626, \"DATE\": \"2006-02-28T00:00:00\", \"BAMLH0A0HYM2\": 3.37}, {\"index\": 1649, \"DATE\": \"2006-03-31T00:00:00\", \"BAMLH0A0HYM2\": 3.13}, {\"index\": 1670, \"DATE\": \"2006-04-30T00:00:00\", \"BAMLH0A0HYM2\": 3.04}, {\"index\": 1693, \"DATE\": \"2006-05-31T00:00:00\", \"BAMLH0A0HYM2\": 3.12}, {\"index\": 1715, \"DATE\": \"2006-06-30T00:00:00\", \"BAMLH0A0HYM2\": 3.35}, {\"index\": 1736, \"DATE\": \"2006-07-31T00:00:00\", \"BAMLH0A0HYM2\": 3.45}, {\"index\": 1759, \"DATE\": \"2006-08-31T00:00:00\", \"BAMLH0A0HYM2\": 3.49}, {\"index\": 1781, \"DATE\": \"2006-09-30T00:00:00\", \"BAMLH0A0HYM2\": 3.44}, {\"index\": 1803, \"DATE\": \"2006-10-31T00:00:00\", \"BAMLH0A0HYM2\": 3.29}, {\"index\": 1825, \"DATE\": \"2006-11-30T00:00:00\", \"BAMLH0A0HYM2\": 3.2}, {\"index\": 1847, \"DATE\": \"2006-12-31T00:00:00\", \"BAMLH0A0HYM2\": 2.89}, {\"index\": 1870, \"DATE\": \"2007-01-31T00:00:00\", \"BAMLH0A0HYM2\": 2.72}, {\"index\": 1890, \"DATE\": \"2007-02-28T00:00:00\", \"BAMLH0A0HYM2\": 2.82}, {\"index\": 1913, \"DATE\": \"2007-03-31T00:00:00\", \"BAMLH0A0HYM2\": 2.85}, {\"index\": 1934, \"DATE\": \"2007-04-30T00:00:00\", \"BAMLH0A0HYM2\": 2.74}, {\"index\": 1957, \"DATE\": \"2007-05-31T00:00:00\", \"BAMLH0A0HYM2\": 2.46}, {\"index\": 1979, \"DATE\": \"2007-06-30T00:00:00\", \"BAMLH0A0HYM2\": 2.98}, {\"index\": 2001, \"DATE\": \"2007-07-31T00:00:00\", \"BAMLH0A0HYM2\": 4.19}, {\"index\": 2024, \"DATE\": \"2007-08-31T00:00:00\", \"BAMLH0A0HYM2\": 4.55}, {\"index\": 2045, \"DATE\": \"2007-09-30T00:00:00\", \"BAMLH0A0HYM2\": 4.2}, {\"index\": 2068, \"DATE\": \"2007-10-31T00:00:00\", \"BAMLH0A0HYM2\": 4.36}, {\"index\": 2090, \"DATE\": \"2007-11-30T00:00:00\", \"BAMLH0A0HYM2\": 5.75}, {\"index\": 2111, \"DATE\": \"2007-12-31T00:00:00\", \"BAMLH0A0HYM2\": 5.92}, {\"index\": 2134, \"DATE\": \"2008-01-31T00:00:00\", \"BAMLH0A0HYM2\": 6.95}, {\"index\": 2155, \"DATE\": \"2008-02-29T00:00:00\", \"BAMLH0A0HYM2\": 7.67}, {\"index\": 2176, \"DATE\": \"2008-03-31T00:00:00\", \"BAMLH0A0HYM2\": 8.21}, {\"index\": 2198, \"DATE\": \"2008-04-30T00:00:00\", \"BAMLH0A0HYM2\": 6.86}, {\"index\": 2221, \"DATE\": \"2008-05-31T00:00:00\", \"BAMLH0A0HYM2\": 6.53}, {\"index\": 2242, \"DATE\": \"2008-06-30T00:00:00\", \"BAMLH0A0HYM2\": 7.35}, {\"index\": 2265, \"DATE\": \"2008-07-31T00:00:00\", \"BAMLH0A0HYM2\": 8.0}, {\"index\": 2287, \"DATE\": \"2008-08-31T00:00:00\", \"BAMLH0A0HYM2\": 8.36}, {\"index\": 2309, \"DATE\": \"2008-09-30T00:00:00\", \"BAMLH0A0HYM2\": 10.96}, {\"index\": 2332, \"DATE\": \"2008-10-31T00:00:00\", \"BAMLH0A0HYM2\": 16.17}, {\"index\": 2353, \"DATE\": \"2008-11-30T00:00:00\", \"BAMLH0A0HYM2\": 19.88}, {\"index\": 2376, \"DATE\": \"2008-12-31T00:00:00\", \"BAMLH0A0HYM2\": 18.12}, {\"index\": 2399, \"DATE\": \"2009-01-31T00:00:00\", \"BAMLH0A0HYM2\": 16.26}, {\"index\": 2420, \"DATE\": \"2009-02-28T00:00:00\", \"BAMLH0A0HYM2\": 17.38}, {\"index\": 2442, \"DATE\": \"2009-03-31T00:00:00\", \"BAMLH0A0HYM2\": 17.03}, {\"index\": 2464, \"DATE\": \"2009-04-30T00:00:00\", \"BAMLH0A0HYM2\": 13.45}, {\"index\": 2486, \"DATE\": \"2009-05-31T00:00:00\", \"BAMLH0A0HYM2\": 11.7}, {\"index\": 2508, \"DATE\": \"2009-06-30T00:00:00\", \"BAMLH0A0HYM2\": 10.55}, {\"index\": 2531, \"DATE\": \"2009-07-31T00:00:00\", \"BAMLH0A0HYM2\": 9.22}, {\"index\": 2552, \"DATE\": \"2009-08-31T00:00:00\", \"BAMLH0A0HYM2\": 9.12}, {\"index\": 2574, \"DATE\": \"2009-09-30T00:00:00\", \"BAMLH0A0HYM2\": 7.93}, {\"index\": 2597, \"DATE\": \"2009-10-31T00:00:00\", \"BAMLH0A0HYM2\": 7.6}, {\"index\": 2618, \"DATE\": \"2009-11-30T00:00:00\", \"BAMLH0A0HYM2\": 7.65}, {\"index\": 2641, \"DATE\": \"2009-12-31T00:00:00\", \"BAMLH0A0HYM2\": 6.39}, {\"index\": 2663, \"DATE\": \"2010-01-31T00:00:00\", \"BAMLH0A0HYM2\": 6.54}, {\"index\": 2684, \"DATE\": \"2010-02-28T00:00:00\", \"BAMLH0A0HYM2\": 6.71}, {\"index\": 2707, \"DATE\": \"2010-03-31T00:00:00\", \"BAMLH0A0HYM2\": 5.84}, {\"index\": 2729, \"DATE\": \"2010-04-30T00:00:00\", \"BAMLH0A0HYM2\": 5.61}, {\"index\": 2750, \"DATE\": \"2010-05-31T00:00:00\", \"BAMLH0A0HYM2\": 6.98}, {\"index\": 2772, \"DATE\": \"2010-06-30T00:00:00\", \"BAMLH0A0HYM2\": 7.13}, {\"index\": 2795, \"DATE\": \"2010-07-31T00:00:00\", \"BAMLH0A0HYM2\": 6.59}, {\"index\": 2817, \"DATE\": \"2010-08-31T00:00:00\", \"BAMLH0A0HYM2\": 6.92}, {\"index\": 2839, \"DATE\": \"2010-09-30T00:00:00\", \"BAMLH0A0HYM2\": 6.26}, {\"index\": 2861, \"DATE\": \"2010-10-31T00:00:00\", \"BAMLH0A0HYM2\": 5.93}, {\"index\": 2883, \"DATE\": \"2010-11-30T00:00:00\", \"BAMLH0A0HYM2\": 6.22}, {\"index\": 2906, \"DATE\": \"2010-12-31T00:00:00\", \"BAMLH0A0HYM2\": 5.41}, {\"index\": 2927, \"DATE\": \"2011-01-31T00:00:00\", \"BAMLH0A0HYM2\": 5.08}, {\"index\": 2947, \"DATE\": \"2011-02-28T00:00:00\", \"BAMLH0A0HYM2\": 4.78}, {\"index\": 2970, \"DATE\": \"2011-03-31T00:00:00\", \"BAMLH0A0HYM2\": 4.77}, {\"index\": 2992, \"DATE\": \"2011-04-30T00:00:00\", \"BAMLH0A0HYM2\": 4.76}, {\"index\": 3014, \"DATE\": \"2011-05-31T00:00:00\", \"BAMLH0A0HYM2\": 5.09}, {\"index\": 3036, \"DATE\": \"2011-06-30T00:00:00\", \"BAMLH0A0HYM2\": 5.42}, {\"index\": 3058, \"DATE\": \"2011-07-31T00:00:00\", \"BAMLH0A0HYM2\": 5.58}, {\"index\": 3081, \"DATE\": \"2011-08-31T00:00:00\", \"BAMLH0A0HYM2\": 7.3}, {\"index\": 3103, \"DATE\": \"2011-09-30T00:00:00\", \"BAMLH0A0HYM2\": 8.41}, {\"index\": 3124, \"DATE\": \"2011-10-31T00:00:00\", \"BAMLH0A0HYM2\": 7.07}, {\"index\": 3146, \"DATE\": \"2011-11-30T00:00:00\", \"BAMLH0A0HYM2\": 7.79}, {\"index\": 3169, \"DATE\": \"2011-12-31T00:00:00\", \"BAMLH0A0HYM2\": 7.23}, {\"index\": 3191, \"DATE\": \"2012-01-31T00:00:00\", \"BAMLH0A0HYM2\": 6.61}, {\"index\": 3212, \"DATE\": \"2012-02-29T00:00:00\", \"BAMLH0A0HYM2\": 5.98}, {\"index\": 3235, \"DATE\": \"2012-03-31T00:00:00\", \"BAMLH0A0HYM2\": 5.99}, {\"index\": 3256, \"DATE\": \"2012-04-30T00:00:00\", \"BAMLH0A0HYM2\": 6.04}, {\"index\": 3279, \"DATE\": \"2012-05-31T00:00:00\", \"BAMLH0A0HYM2\": 6.96}, {\"index\": 3301, \"DATE\": \"2012-06-30T00:00:00\", \"BAMLH0A0HYM2\": 6.44}, {\"index\": 3323, \"DATE\": \"2012-07-31T00:00:00\", \"BAMLH0A0HYM2\": 6.16}, {\"index\": 3346, \"DATE\": \"2012-08-31T00:00:00\", \"BAMLH0A0HYM2\": 5.98}, {\"index\": 3367, \"DATE\": \"2012-09-30T00:00:00\", \"BAMLH0A0HYM2\": 5.74}, {\"index\": 3390, \"DATE\": \"2012-10-31T00:00:00\", \"BAMLH0A0HYM2\": 5.63}, {\"index\": 3412, \"DATE\": \"2012-11-30T00:00:00\", \"BAMLH0A0HYM2\": 5.65}, {\"index\": 3433, \"DATE\": \"2012-12-31T00:00:00\", \"BAMLH0A0HYM2\": 5.34}, {\"index\": 3456, \"DATE\": \"2013-01-31T00:00:00\", \"BAMLH0A0HYM2\": 4.95}, {\"index\": 3476, \"DATE\": \"2013-02-28T00:00:00\", \"BAMLH0A0HYM2\": 4.98}, {\"index\": 3498, \"DATE\": \"2013-03-31T00:00:00\", \"BAMLH0A0HYM2\": 4.86}, {\"index\": 3520, \"DATE\": \"2013-04-30T00:00:00\", \"BAMLH0A0HYM2\": 4.55}, {\"index\": 3543, \"DATE\": \"2013-05-31T00:00:00\", \"BAMLH0A0HYM2\": 4.62}, {\"index\": 3564, \"DATE\": \"2013-06-30T00:00:00\", \"BAMLH0A0HYM2\": 5.21}, {\"index\": 3587, \"DATE\": \"2013-07-31T00:00:00\", \"BAMLH0A0HYM2\": 4.71}, {\"index\": 3608, \"DATE\": \"2013-08-29T00:00:00\", \"BAMLH0A0HYM2\": 4.76}, {\"index\": 3630, \"DATE\": \"2013-09-30T00:00:00\", \"BAMLH0A0HYM2\": 4.83}, {\"index\": 3653, \"DATE\": \"2013-10-31T00:00:00\", \"BAMLH0A0HYM2\": 4.36}, {\"index\": 3675, \"DATE\": \"2013-11-30T00:00:00\", \"BAMLH0A0HYM2\": 4.27}, {\"index\": 3697, \"DATE\": \"2013-12-31T00:00:00\", \"BAMLH0A0HYM2\": 4.0}, {\"index\": 3720, \"DATE\": \"2014-01-31T00:00:00\", \"BAMLH0A0HYM2\": 4.21}, {\"index\": 3740, \"DATE\": \"2014-02-28T00:00:00\", \"BAMLH0A0HYM2\": 3.81}, {\"index\": 3761, \"DATE\": \"2014-03-31T00:00:00\", \"BAMLH0A0HYM2\": 3.77}, {\"index\": 3783, \"DATE\": \"2014-04-30T00:00:00\", \"BAMLH0A0HYM2\": 3.71}, {\"index\": 3806, \"DATE\": \"2014-05-31T00:00:00\", \"BAMLH0A0HYM2\": 3.67}, {\"index\": 3827, \"DATE\": \"2014-06-30T00:00:00\", \"BAMLH0A0HYM2\": 3.53}, {\"index\": 3850, \"DATE\": \"2014-07-31T00:00:00\", \"BAMLH0A0HYM2\": 4.04}, {\"index\": 3872, \"DATE\": \"2014-08-31T00:00:00\", \"BAMLH0A0HYM2\": 3.84}, {\"index\": 3894, \"DATE\": \"2014-09-30T00:00:00\", \"BAMLH0A0HYM2\": 4.4}, {\"index\": 3917, \"DATE\": \"2014-10-31T00:00:00\", \"BAMLH0A0HYM2\": 4.3}, {\"index\": 3938, \"DATE\": \"2014-11-30T00:00:00\", \"BAMLH0A0HYM2\": 4.67}, {\"index\": 3961, \"DATE\": \"2014-12-31T00:00:00\", \"BAMLH0A0HYM2\": 5.04}, {\"index\": 3984, \"DATE\": \"2015-01-31T00:00:00\", \"BAMLH0A0HYM2\": 5.26}, {\"index\": 4005, \"DATE\": \"2015-02-28T00:00:00\", \"BAMLH0A0HYM2\": 4.46}, {\"index\": 4027, \"DATE\": \"2015-03-31T00:00:00\", \"BAMLH0A0HYM2\": 4.82}, {\"index\": 4049, \"DATE\": \"2015-04-30T00:00:00\", \"BAMLH0A0HYM2\": 4.59}, {\"index\": 4071, \"DATE\": \"2015-05-31T00:00:00\", \"BAMLH0A0HYM2\": 4.58}, {\"index\": 4093, \"DATE\": \"2015-06-30T00:00:00\", \"BAMLH0A0HYM2\": 5.0}, {\"index\": 4116, \"DATE\": \"2015-07-31T00:00:00\", \"BAMLH0A0HYM2\": 5.36}, {\"index\": 4137, \"DATE\": \"2015-08-31T00:00:00\", \"BAMLH0A0HYM2\": 5.7}, {\"index\": 4159, \"DATE\": \"2015-09-30T00:00:00\", \"BAMLH0A0HYM2\": 6.62}, {\"index\": 4182, \"DATE\": \"2015-10-31T00:00:00\", \"BAMLH0A0HYM2\": 5.9}, {\"index\": 4203, \"DATE\": \"2015-11-30T00:00:00\", \"BAMLH0A0HYM2\": 6.4}, {\"index\": 4226, \"DATE\": \"2015-12-31T00:00:00\", \"BAMLH0A0HYM2\": 6.95}, {\"index\": 4248, \"DATE\": \"2016-01-31T00:00:00\", \"BAMLH0A0HYM2\": 7.77}, {\"index\": 4269, \"DATE\": \"2016-02-29T00:00:00\", \"BAMLH0A0HYM2\": 7.75}, {\"index\": 4292, \"DATE\": \"2016-03-31T00:00:00\", \"BAMLH0A0HYM2\": 7.05}, {\"index\": 4314, \"DATE\": \"2016-04-30T00:00:00\", \"BAMLH0A0HYM2\": 6.21}, {\"index\": 4336, \"DATE\": \"2016-05-31T00:00:00\", \"BAMLH0A0HYM2\": 5.97}, {\"index\": 4358, \"DATE\": \"2016-06-30T00:00:00\", \"BAMLH0A0HYM2\": 6.21}, {\"index\": 4380, \"DATE\": \"2016-07-31T00:00:00\", \"BAMLH0A0HYM2\": 5.69}, {\"index\": 4403, \"DATE\": \"2016-08-31T00:00:00\", \"BAMLH0A0HYM2\": 5.1}, {\"index\": 4425, \"DATE\": \"2016-09-30T00:00:00\", \"BAMLH0A0HYM2\": 4.97}, {\"index\": 4446, \"DATE\": \"2016-10-31T00:00:00\", \"BAMLH0A0HYM2\": 4.91}, {\"index\": 4468, \"DATE\": \"2016-11-30T00:00:00\", \"BAMLH0A0HYM2\": 4.67}, {\"index\": 4491, \"DATE\": \"2016-12-31T00:00:00\", \"BAMLH0A0HYM2\": 4.22}, {\"index\": 4513, \"DATE\": \"2017-01-31T00:00:00\", \"BAMLH0A0HYM2\": 4.0}, {\"index\": 4533, \"DATE\": \"2017-02-28T00:00:00\", \"BAMLH0A0HYM2\": 3.74}, {\"index\": 4556, \"DATE\": \"2017-03-31T00:00:00\", \"BAMLH0A0HYM2\": 3.92}, {\"index\": 4577, \"DATE\": \"2017-04-30T00:00:00\", \"BAMLH0A0HYM2\": 3.81}, {\"index\": 4600, \"DATE\": \"2017-05-31T00:00:00\", \"BAMLH0A0HYM2\": 3.74}, {\"index\": 4622, \"DATE\": \"2017-06-30T00:00:00\", \"BAMLH0A0HYM2\": 3.77}, {\"index\": 4643, \"DATE\": \"2017-07-31T00:00:00\", \"BAMLH0A0HYM2\": 3.61}, {\"index\": 4666, \"DATE\": \"2017-08-31T00:00:00\", \"BAMLH0A0HYM2\": 3.85}, {\"index\": 4688, \"DATE\": \"2017-09-30T00:00:00\", \"BAMLH0A0HYM2\": 3.56}, {\"index\": 4710, \"DATE\": \"2017-10-31T00:00:00\", \"BAMLH0A0HYM2\": 3.51}, {\"index\": 4732, \"DATE\": \"2017-11-30T00:00:00\", \"BAMLH0A0HYM2\": 3.61}, {\"index\": 4754, \"DATE\": \"2017-12-31T00:00:00\", \"BAMLH0A0HYM2\": 3.63}, {\"index\": 4777, \"DATE\": \"2018-01-31T00:00:00\", \"BAMLH0A0HYM2\": 3.29}, {\"index\": 4797, \"DATE\": \"2018-02-28T00:00:00\", \"BAMLH0A0HYM2\": 3.47}, {\"index\": 4820, \"DATE\": \"2018-03-31T00:00:00\", \"BAMLH0A0HYM2\": 3.72}, {\"index\": 4841, \"DATE\": \"2018-04-30T00:00:00\", \"BAMLH0A0HYM2\": 3.46}, {\"index\": 4864, \"DATE\": \"2018-05-31T00:00:00\", \"BAMLH0A0HYM2\": 3.63}, {\"index\": 4886, \"DATE\": \"2018-06-30T00:00:00\", \"BAMLH0A0HYM2\": 3.71}, {\"index\": 4908, \"DATE\": \"2018-07-31T00:00:00\", \"BAMLH0A0HYM2\": 3.46}, {\"index\": 4931, \"DATE\": \"2018-08-31T00:00:00\", \"BAMLH0A0HYM2\": 3.49}, {\"index\": 4952, \"DATE\": \"2018-09-30T00:00:00\", \"BAMLH0A0HYM2\": 3.28}, {\"index\": 4975, \"DATE\": \"2018-10-31T00:00:00\", \"BAMLH0A0HYM2\": 3.81}, {\"index\": 4997, \"DATE\": \"2018-11-30T00:00:00\", \"BAMLH0A0HYM2\": 4.29}, {\"index\": 5018, \"DATE\": \"2018-12-31T00:00:00\", \"BAMLH0A0HYM2\": 5.33}, {\"index\": 5041, \"DATE\": \"2019-01-31T00:00:00\", \"BAMLH0A0HYM2\": 4.37}, {\"index\": 5061, \"DATE\": \"2019-02-28T00:00:00\", \"BAMLH0A0HYM2\": 3.92}, {\"index\": 5083, \"DATE\": \"2019-03-31T00:00:00\", \"BAMLH0A0HYM2\": 4.05}, {\"index\": 5105, \"DATE\": \"2019-04-30T00:00:00\", \"BAMLH0A0HYM2\": 3.73}, {\"index\": 5128, \"DATE\": \"2019-05-31T00:00:00\", \"BAMLH0A0HYM2\": 4.59}, {\"index\": 5149, \"DATE\": \"2019-06-30T00:00:00\", \"BAMLH0A0HYM2\": 4.07}, {\"index\": 5172, \"DATE\": \"2019-07-31T00:00:00\", \"BAMLH0A0HYM2\": 3.93}, {\"index\": 5195, \"DATE\": \"2019-08-31T00:00:00\", \"BAMLH0A0HYM2\": 4.13}, {\"index\": 5216, \"DATE\": \"2019-09-30T00:00:00\", \"BAMLH0A0HYM2\": 4.02}, {\"index\": 5239, \"DATE\": \"2019-10-31T00:00:00\", \"BAMLH0A0HYM2\": 4.15}, {\"index\": 5261, \"DATE\": \"2019-11-30T00:00:00\", \"BAMLH0A0HYM2\": 4.02}, {\"index\": 5283, \"DATE\": \"2019-12-31T00:00:00\", \"BAMLH0A0HYM2\": 3.6}, {\"index\": 5306, \"DATE\": \"2020-01-31T00:00:00\", \"BAMLH0A0HYM2\": 4.03}, {\"index\": 5327, \"DATE\": \"2020-02-29T00:00:00\", \"BAMLH0A0HYM2\": 5.06}, {\"index\": 5349, \"DATE\": \"2020-03-31T00:00:00\", \"BAMLH0A0HYM2\": 8.77}, {\"index\": 5371, \"DATE\": \"2020-04-30T00:00:00\", \"BAMLH0A0HYM2\": 7.63}, {\"index\": 5393, \"DATE\": \"2020-05-31T00:00:00\", \"BAMLH0A0HYM2\": 6.54}, {\"index\": 5415, \"DATE\": \"2020-06-30T00:00:00\", \"BAMLH0A0HYM2\": 6.44}, {\"index\": 5438, \"DATE\": \"2020-07-31T00:00:00\", \"BAMLH0A0HYM2\": 5.16}, {\"index\": 5459, \"DATE\": \"2020-08-31T00:00:00\", \"BAMLH0A0HYM2\": 5.02}, {\"index\": 5481, \"DATE\": \"2020-09-30T00:00:00\", \"BAMLH0A0HYM2\": 5.41}, {\"index\": 5504, \"DATE\": \"2020-10-31T00:00:00\", \"BAMLH0A0HYM2\": 5.32}, {\"index\": 5525, \"DATE\": \"2020-11-30T00:00:00\", \"BAMLH0A0HYM2\": 4.33}, {\"index\": 5548, \"DATE\": \"2020-12-31T00:00:00\", \"BAMLH0A0HYM2\": 3.86}], \"data-fb17600278770dc02096e7026f827d88\": [{\"index\": 0, \"DATE\": \"2000-01-31T00:00:00\", \"DRTSCIS\": 9.4}, {\"index\": 1, \"DATE\": \"2000-04-30T00:00:00\", \"DRTSCIS\": 21.4}, {\"index\": 2, \"DATE\": \"2000-07-31T00:00:00\", \"DRTSCIS\": 23.6}, {\"index\": 3, \"DATE\": \"2000-10-31T00:00:00\", \"DRTSCIS\": 27.3}, {\"index\": 4, \"DATE\": \"2001-01-31T00:00:00\", \"DRTSCIS\": 45.5}, {\"index\": 5, \"DATE\": \"2001-04-30T00:00:00\", \"DRTSCIS\": 36.4}, {\"index\": 6, \"DATE\": \"2001-07-31T00:00:00\", \"DRTSCIS\": 31.6}, {\"index\": 7, \"DATE\": \"2001-10-31T00:00:00\", \"DRTSCIS\": 40.4}, {\"index\": 8, \"DATE\": \"2002-01-31T00:00:00\", \"DRTSCIS\": 41.8}, {\"index\": 9, \"DATE\": \"2002-04-30T00:00:00\", \"DRTSCIS\": 14.5}, {\"index\": 10, \"DATE\": \"2002-07-31T00:00:00\", \"DRTSCIS\": 5.5}, {\"index\": 11, \"DATE\": \"2002-10-31T00:00:00\", \"DRTSCIS\": 18.2}, {\"index\": 12, \"DATE\": \"2003-01-31T00:00:00\", \"DRTSCIS\": 13.8}, {\"index\": 13, \"DATE\": \"2003-04-30T00:00:00\", \"DRTSCIS\": 12.7}, {\"index\": 14, \"DATE\": \"2003-07-31T00:00:00\", \"DRTSCIS\": 3.5}, {\"index\": 15, \"DATE\": \"2003-10-31T00:00:00\", \"DRTSCIS\": -1.8}, {\"index\": 16, \"DATE\": \"2004-01-31T00:00:00\", \"DRTSCIS\": -10.9}, {\"index\": 17, \"DATE\": \"2004-04-30T00:00:00\", \"DRTSCIS\": -19.3}, {\"index\": 18, \"DATE\": \"2004-07-31T00:00:00\", \"DRTSCIS\": -3.6}, {\"index\": 19, \"DATE\": \"2004-10-31T00:00:00\", \"DRTSCIS\": -18.2}, {\"index\": 20, \"DATE\": \"2005-01-31T00:00:00\", \"DRTSCIS\": -13.0}, {\"index\": 21, \"DATE\": \"2005-04-30T00:00:00\", \"DRTSCIS\": -24.1}, {\"index\": 22, \"DATE\": \"2005-07-31T00:00:00\", \"DRTSCIS\": -11.1}, {\"index\": 23, \"DATE\": \"2005-10-31T00:00:00\", \"DRTSCIS\": -5.3}, {\"index\": 24, \"DATE\": \"2006-01-31T00:00:00\", \"DRTSCIS\": -7.1}, {\"index\": 25, \"DATE\": \"2006-04-30T00:00:00\", \"DRTSCIS\": -7.0}, {\"index\": 26, \"DATE\": \"2006-07-31T00:00:00\", \"DRTSCIS\": -1.8}, {\"index\": 27, \"DATE\": \"2006-10-31T00:00:00\", \"DRTSCIS\": -1.9}, {\"index\": 28, \"DATE\": \"2007-01-31T00:00:00\", \"DRTSCIS\": 5.4}, {\"index\": 29, \"DATE\": \"2007-04-30T00:00:00\", \"DRTSCIS\": 1.9}, {\"index\": 30, \"DATE\": \"2007-07-31T00:00:00\", \"DRTSCIS\": 7.7}, {\"index\": 31, \"DATE\": \"2007-10-31T00:00:00\", \"DRTSCIS\": 9.6}, {\"index\": 32, \"DATE\": \"2008-01-31T00:00:00\", \"DRTSCIS\": 30.4}, {\"index\": 33, \"DATE\": \"2008-04-30T00:00:00\", \"DRTSCIS\": 51.8}, {\"index\": 34, \"DATE\": \"2008-07-31T00:00:00\", \"DRTSCIS\": 65.4}, {\"index\": 35, \"DATE\": \"2008-10-31T00:00:00\", \"DRTSCIS\": 74.5}, {\"index\": 36, \"DATE\": \"2009-01-31T00:00:00\", \"DRTSCIS\": 69.2}, {\"index\": 37, \"DATE\": \"2009-04-30T00:00:00\", \"DRTSCIS\": 42.3}, {\"index\": 38, \"DATE\": \"2009-07-31T00:00:00\", \"DRTSCIS\": 34.0}, {\"index\": 39, \"DATE\": \"2009-10-31T00:00:00\", \"DRTSCIS\": 16.1}, {\"index\": 40, \"DATE\": \"2010-01-31T00:00:00\", \"DRTSCIS\": 3.7}, {\"index\": 41, \"DATE\": \"2010-04-30T00:00:00\", \"DRTSCIS\": 0.0}, {\"index\": 42, \"DATE\": \"2010-07-31T00:00:00\", \"DRTSCIS\": -9.1}, {\"index\": 43, \"DATE\": \"2010-10-31T00:00:00\", \"DRTSCIS\": -7.1}, {\"index\": 44, \"DATE\": \"2011-01-31T00:00:00\", \"DRTSCIS\": -1.9}, {\"index\": 45, \"DATE\": \"2011-04-30T00:00:00\", \"DRTSCIS\": -13.5}, {\"index\": 46, \"DATE\": \"2011-07-31T00:00:00\", \"DRTSCIS\": -7.8}, {\"index\": 47, \"DATE\": \"2011-10-31T00:00:00\", \"DRTSCIS\": -6.3}, {\"index\": 48, \"DATE\": \"2012-01-31T00:00:00\", \"DRTSCIS\": 1.9}, {\"index\": 49, \"DATE\": \"2012-04-30T00:00:00\", \"DRTSCIS\": -1.8}, {\"index\": 50, \"DATE\": \"2012-07-31T00:00:00\", \"DRTSCIS\": -4.9}, {\"index\": 51, \"DATE\": \"2012-10-31T00:00:00\", \"DRTSCIS\": -7.6}, {\"index\": 52, \"DATE\": \"2013-01-31T00:00:00\", \"DRTSCIS\": -7.7}, {\"index\": 53, \"DATE\": \"2013-04-30T00:00:00\", \"DRTSCIS\": -23.1}, {\"index\": 54, \"DATE\": \"2013-07-31T00:00:00\", \"DRTSCIS\": -10.0}, {\"index\": 55, \"DATE\": \"2013-10-31T00:00:00\", \"DRTSCIS\": -7.1}, {\"index\": 56, \"DATE\": \"2014-01-31T00:00:00\", \"DRTSCIS\": -4.2}, {\"index\": 57, \"DATE\": \"2014-04-30T00:00:00\", \"DRTSCIS\": -7.0}, {\"index\": 58, \"DATE\": \"2014-07-31T00:00:00\", \"DRTSCIS\": -8.3}, {\"index\": 59, \"DATE\": \"2014-10-31T00:00:00\", \"DRTSCIS\": -8.2}, {\"index\": 60, \"DATE\": \"2015-01-31T00:00:00\", \"DRTSCIS\": -5.7}, {\"index\": 61, \"DATE\": \"2015-04-30T00:00:00\", \"DRTSCIS\": -1.4}, {\"index\": 62, \"DATE\": \"2015-07-31T00:00:00\", \"DRTSCIS\": -6.0}, {\"index\": 63, \"DATE\": \"2015-10-31T00:00:00\", \"DRTSCIS\": 1.5}, {\"index\": 64, \"DATE\": \"2016-01-31T00:00:00\", \"DRTSCIS\": 4.2}, {\"index\": 65, \"DATE\": \"2016-04-30T00:00:00\", \"DRTSCIS\": 5.8}, {\"index\": 66, \"DATE\": \"2016-07-31T00:00:00\", \"DRTSCIS\": 7.1}, {\"index\": 67, \"DATE\": \"2016-10-31T00:00:00\", \"DRTSCIS\": -1.5}, {\"index\": 68, \"DATE\": \"2017-01-31T00:00:00\", \"DRTSCIS\": 0.0}, {\"index\": 69, \"DATE\": \"2017-04-30T00:00:00\", \"DRTSCIS\": -2.9}, {\"index\": 70, \"DATE\": \"2017-07-31T00:00:00\", \"DRTSCIS\": -4.1}, {\"index\": 71, \"DATE\": \"2017-10-31T00:00:00\", \"DRTSCIS\": -8.8}, {\"index\": 72, \"DATE\": \"2018-01-31T00:00:00\", \"DRTSCIS\": 0.0}, {\"index\": 73, \"DATE\": \"2018-04-30T00:00:00\", \"DRTSCIS\": -3.0}, {\"index\": 74, \"DATE\": \"2018-07-31T00:00:00\", \"DRTSCIS\": -7.6}, {\"index\": 75, \"DATE\": \"2018-10-31T00:00:00\", \"DRTSCIS\": -3.1}, {\"index\": 76, \"DATE\": \"2019-01-31T00:00:00\", \"DRTSCIS\": 4.3}, {\"index\": 77, \"DATE\": \"2019-04-30T00:00:00\", \"DRTSCIS\": 0.0}, {\"index\": 78, \"DATE\": \"2019-07-31T00:00:00\", \"DRTSCIS\": -5.8}, {\"index\": 79, \"DATE\": \"2019-10-31T00:00:00\", \"DRTSCIS\": 5.6}, {\"index\": 80, \"DATE\": \"2020-01-31T00:00:00\", \"DRTSCIS\": -1.4}, {\"index\": 81, \"DATE\": \"2020-04-30T00:00:00\", \"DRTSCIS\": 39.7}, {\"index\": 82, \"DATE\": \"2020-07-31T00:00:00\", \"DRTSCIS\": 70.0}, {\"index\": 83, \"DATE\": \"2020-10-31T00:00:00\", \"DRTSCIS\": 31.3}], \"data-4c6f780913a45f81a467345005541598\": [{\"value\": 0}]}}, {\"mode\": \"vega-lite\"});\n",
       "</script>"
      ],
      "text/plain": [
       "alt.LayerChart(...)"
      ]
     },
     "execution_count": 16,
     "metadata": {},
     "output_type": "execute_result"
    }
   ],
   "source": [
    "plotter(df1,df2,dr)"
   ]
  },
  {
   "cell_type": "code",
   "execution_count": 66,
   "metadata": {},
   "outputs": [],
   "source": [
    "p=plotter(df1,df2,dr)\n",
    "p.save('chart.json')\n",
    "# p.save('chart.png')"
   ]
  },
  {
   "cell_type": "code",
   "execution_count": 67,
   "metadata": {},
   "outputs": [],
   "source": [
    "import json"
   ]
  },
  {
   "cell_type": "code",
   "execution_count": 68,
   "metadata": {},
   "outputs": [],
   "source": [
    "import altair_viewer"
   ]
  },
  {
   "cell_type": "code",
   "execution_count": 113,
   "metadata": {},
   "outputs": [
    {
     "data": {
      "text/html": [
       "\n",
       "<div id=\"altair-chart-2ba40a653957450f88064416aff8d658\"></div>\n",
       "<script type=\"text/javascript\">\n",
       "  (function(spec, embedOpt) {\n",
       "    const outputDiv = document.getElementById(\"altair-chart-2ba40a653957450f88064416aff8d658\");\n",
       "    const urls = {\n",
       "      \"vega\": \"http://localhost:22671/scripts/vega.js\",\n",
       "      \"vega-lite\": \"http://localhost:22671/scripts/vega-lite.js\",\n",
       "      \"vega-embed\": \"http://localhost:22671/scripts/vega-embed.js\",\n",
       "    };\n",
       "    function loadScript(lib) {\n",
       "      return new Promise(function(resolve, reject) {\n",
       "        var s = document.createElement('script');\n",
       "        s.src = urls[lib];\n",
       "        s.async = true;\n",
       "        s.onload = () => resolve(urls[lib]);\n",
       "        s.onerror = () => reject(`Error loading script: ${urls[lib]}`);\n",
       "        document.getElementsByTagName(\"head\")[0].appendChild(s);\n",
       "      });\n",
       "    }\n",
       "    function showError(err) {\n",
       "      outputDiv.innerHTML = `<div class=\"error\" style=\"color:red;\">${err}</div>`;\n",
       "      throw err;\n",
       "    }\n",
       "    function displayChart(vegaEmbed) {\n",
       "      vegaEmbed(outputDiv, spec, embedOpt)\n",
       "        .catch(err => showError(`Javascript Error: ${err.message}<br>This usually means there's a typo in your chart specification. See the javascript console for the full traceback.`));\n",
       "    }\n",
       "\n",
       "    if(typeof define === \"function\" && define.amd) {\n",
       "        // requirejs paths need '.js' extension stripped.\n",
       "        const paths = Object.keys(urls).reduce(function(paths, package) {\n",
       "            paths[package] = urls[package].replace(/\\.js$/, \"\");\n",
       "            return paths\n",
       "        }, {})\n",
       "        requirejs.config({paths});\n",
       "        require([\"vega-embed\"], displayChart, err => showError(`Error loading script: ${err.message}`));\n",
       "    } else if (typeof vegaEmbed === \"function\") {\n",
       "        displayChart(vegaEmbed);\n",
       "    } else {\n",
       "        loadScript(\"vega\")\n",
       "            .then(() => loadScript(\"vega-lite\"))\n",
       "            .then(() => loadScript(\"vega-embed\"))\n",
       "            .catch(showError)\n",
       "            .then(() => displayChart(vegaEmbed));\n",
       "    }\n",
       "  })({\"config\": {\"view\": {\"continuousWidth\": 400, \"continuousHeight\": 300}}, \"layer\": [{\"data\": {\"name\": \"data-2b08226b30bbb08a20f45bc01ddaafde\"}, \"mark\": {\"type\": \"rect\", \"blend\": \"darken\"}, \"encoding\": {\"color\": {\"type\": \"nominal\", \"field\": \"color\", \"scale\": null}, \"x\": {\"type\": \"temporal\", \"field\": \"start\"}, \"x2\": {\"field\": \"end\"}}, \"height\": 250, \"width\": 700}, {\"layer\": [{\"data\": {\"name\": \"data-aabda36bdbddb46b357052b4840408ae\"}, \"mark\": {\"type\": \"line\", \"color\": \"#557CAA\", \"line\": true}, \"encoding\": {\"x\": {\"type\": \"temporal\", \"axis\": {\"grid\": false}, \"field\": \"DATE\", \"title\": null}, \"y\": {\"type\": \"quantitative\", \"axis\": {\"format\": \".1f\", \"grid\": true, \"tickCount\": 9, \"titleFontWeight\": \"normal\", \"values\": [0.0, 2.5, 5.0, 7.5, 10.0, 12.5, 15.0, 17.5, 20.0]}, \"field\": \"BAMLH0A0HYM2\", \"scale\": {\"domain\": [0, 20]}, \"title\": \"Percent\"}}}, {\"data\": {\"name\": \"data-fb17600278770dc02096e7026f827d88\"}, \"mark\": {\"type\": \"line\", \"color\": \"#A53F3D\", \"line\": true}, \"encoding\": {\"x\": {\"type\": \"temporal\", \"field\": \"DATE\"}, \"y\": {\"type\": \"quantitative\", \"axis\": {\"format\": \".0f\", \"tickCount\": 9, \"titleFontWeight\": \"normal\", \"values\": [-30, -15, 0, 15, 30, 45, 60, 75, 90]}, \"field\": \"DRTSCIS\", \"scale\": {\"domain\": [-30, 90]}, \"title\": \"Percent\"}}}, {\"data\": {\"name\": \"data-4c6f780913a45f81a467345005541598\"}, \"mark\": {\"type\": \"rule\", \"size\": 3}, \"encoding\": {\"y\": {\"type\": \"quantitative\", \"axis\": {\"grid\": false, \"values\": []}, \"field\": \"value\", \"scale\": {\"domain\": [0, 20]}, \"title\": null}}}], \"resolve\": {\"scale\": {\"y\": \"independent\"}}}, {\"data\": {\"name\": \"data-4c6f780913a45f81a467345005541598\"}, \"mark\": {\"type\": \"rule\", \"size\": 3}, \"encoding\": {\"y\": {\"type\": \"quantitative\", \"axis\": {\"grid\": false, \"values\": []}, \"field\": \"value\", \"scale\": {\"domain\": [0, 20]}, \"title\": null}}}], \"$schema\": \"https://vega.github.io/schema/vega-lite/v4.8.1.json\", \"datasets\": {\"data-2b08226b30bbb08a20f45bc01ddaafde\": [{\"start\": \"2001-03-31\", \"end\": \"2001-11-30\", \"event\": \"recession\", \"color\": \"#E2E2E2\"}, {\"start\": \"2007-12-31\", \"end\": \"2009-06-30\", \"event\": \"recession\", \"color\": \"#E2E2E2\"}, {\"start\": \"2020-02-29\", \"end\": \"2021-04-01\", \"event\": \"covid\", \"color\": \"#F3F4D8\"}], \"data-aabda36bdbddb46b357052b4840408ae\": [{\"index\": 20, \"DATE\": \"2000-01-31T00:00:00\", \"BAMLH0A0HYM2\": 4.87}, {\"index\": 41, \"DATE\": \"2000-02-29T00:00:00\", \"BAMLH0A0HYM2\": 5.08}, {\"index\": 64, \"DATE\": \"2000-03-31T00:00:00\", \"BAMLH0A0HYM2\": 5.75}, {\"index\": 85, \"DATE\": \"2000-04-30T00:00:00\", \"BAMLH0A0HYM2\": 5.88}, {\"index\": 108, \"DATE\": \"2000-05-31T00:00:00\", \"BAMLH0A0HYM2\": 6.16}, {\"index\": 130, \"DATE\": \"2000-06-30T00:00:00\", \"BAMLH0A0HYM2\": 6.17}, {\"index\": 151, \"DATE\": \"2000-07-31T00:00:00\", \"BAMLH0A0HYM2\": 6.26}, {\"index\": 174, \"DATE\": \"2000-08-31T00:00:00\", \"BAMLH0A0HYM2\": 6.43}, {\"index\": 196, \"DATE\": \"2000-09-30T00:00:00\", \"BAMLH0A0HYM2\": 6.77}, {\"index\": 218, \"DATE\": \"2000-10-31T00:00:00\", \"BAMLH0A0HYM2\": 7.79}, {\"index\": 240, \"DATE\": \"2000-11-30T00:00:00\", \"BAMLH0A0HYM2\": 9.06}, {\"index\": 262, \"DATE\": \"2000-12-31T00:00:00\", \"BAMLH0A0HYM2\": 9.16}, {\"index\": 285, \"DATE\": \"2001-01-31T00:00:00\", \"BAMLH0A0HYM2\": 7.87}, {\"index\": 305, \"DATE\": \"2001-02-28T00:00:00\", \"BAMLH0A0HYM2\": 7.7}, {\"index\": 328, \"DATE\": \"2001-03-31T00:00:00\", \"BAMLH0A0HYM2\": 8.18}, {\"index\": 349, \"DATE\": \"2001-04-30T00:00:00\", \"BAMLH0A0HYM2\": 8.06}, {\"index\": 372, \"DATE\": \"2001-05-31T00:00:00\", \"BAMLH0A0HYM2\": 7.68}, {\"index\": 394, \"DATE\": \"2001-06-30T00:00:00\", \"BAMLH0A0HYM2\": 8.16}, {\"index\": 416, \"DATE\": \"2001-07-31T00:00:00\", \"BAMLH0A0HYM2\": 8.27}, {\"index\": 439, \"DATE\": \"2001-08-31T00:00:00\", \"BAMLH0A0HYM2\": 8.05}, {\"index\": 460, \"DATE\": \"2001-09-30T00:00:00\", \"BAMLH0A0HYM2\": 10.18}, {\"index\": 483, \"DATE\": \"2001-10-31T00:00:00\", \"BAMLH0A0HYM2\": 9.61}, {\"index\": 505, \"DATE\": \"2001-11-30T00:00:00\", \"BAMLH0A0HYM2\": 8.39}, {\"index\": 526, \"DATE\": \"2001-12-31T00:00:00\", \"BAMLH0A0HYM2\": 8.24}, {\"index\": 549, \"DATE\": \"2002-01-31T00:00:00\", \"BAMLH0A0HYM2\": 7.89}, {\"index\": 569, \"DATE\": \"2002-02-28T00:00:00\", \"BAMLH0A0HYM2\": 8.19}, {\"index\": 591, \"DATE\": \"2002-03-31T00:00:00\", \"BAMLH0A0HYM2\": 7.08}, {\"index\": 613, \"DATE\": \"2002-04-30T00:00:00\", \"BAMLH0A0HYM2\": 6.88}, {\"index\": 636, \"DATE\": \"2002-05-31T00:00:00\", \"BAMLH0A0HYM2\": 7.28}, {\"index\": 657, \"DATE\": \"2002-06-30T00:00:00\", \"BAMLH0A0HYM2\": 8.75}, {\"index\": 680, \"DATE\": \"2002-07-31T00:00:00\", \"BAMLH0A0HYM2\": 9.71}, {\"index\": 703, \"DATE\": \"2002-08-31T00:00:00\", \"BAMLH0A0HYM2\": 9.61}, {\"index\": 724, \"DATE\": \"2002-09-30T00:00:00\", \"BAMLH0A0HYM2\": 10.33}, {\"index\": 747, \"DATE\": \"2002-10-31T00:00:00\", \"BAMLH0A0HYM2\": 10.59}, {\"index\": 769, \"DATE\": \"2002-11-30T00:00:00\", \"BAMLH0A0HYM2\": 8.83}, {\"index\": 791, \"DATE\": \"2002-12-31T00:00:00\", \"BAMLH0A0HYM2\": 8.9}, {\"index\": 814, \"DATE\": \"2003-01-31T00:00:00\", \"BAMLH0A0HYM2\": 8.29}, {\"index\": 834, \"DATE\": \"2003-02-28T00:00:00\", \"BAMLH0A0HYM2\": 8.38}, {\"index\": 855, \"DATE\": \"2003-03-31T00:00:00\", \"BAMLH0A0HYM2\": 7.72}, {\"index\": 877, \"DATE\": \"2003-04-30T00:00:00\", \"BAMLH0A0HYM2\": 6.44}, {\"index\": 900, \"DATE\": \"2003-05-31T00:00:00\", \"BAMLH0A0HYM2\": 6.79}, {\"index\": 921, \"DATE\": \"2003-06-30T00:00:00\", \"BAMLH0A0HYM2\": 6.13}, {\"index\": 944, \"DATE\": \"2003-07-31T00:00:00\", \"BAMLH0A0HYM2\": 5.67}, {\"index\": 966, \"DATE\": \"2003-08-31T00:00:00\", \"BAMLH0A0HYM2\": 5.46}, {\"index\": 988, \"DATE\": \"2003-09-30T00:00:00\", \"BAMLH0A0HYM2\": 5.51}, {\"index\": 1011, \"DATE\": \"2003-10-31T00:00:00\", \"BAMLH0A0HYM2\": 4.73}, {\"index\": 1032, \"DATE\": \"2003-11-30T00:00:00\", \"BAMLH0A0HYM2\": 4.48}, {\"index\": 1055, \"DATE\": \"2003-12-31T00:00:00\", \"BAMLH0A0HYM2\": 4.18}, {\"index\": 1078, \"DATE\": \"2004-01-31T00:00:00\", \"BAMLH0A0HYM2\": 4.05}, {\"index\": 1099, \"DATE\": \"2004-02-29T00:00:00\", \"BAMLH0A0HYM2\": 4.34}, {\"index\": 1122, \"DATE\": \"2004-03-31T00:00:00\", \"BAMLH0A0HYM2\": 4.41}, {\"index\": 1144, \"DATE\": \"2004-04-30T00:00:00\", \"BAMLH0A0HYM2\": 3.91}, {\"index\": 1165, \"DATE\": \"2004-05-31T00:00:00\", \"BAMLH0A0HYM2\": 4.28}, {\"index\": 1187, \"DATE\": \"2004-06-30T00:00:00\", \"BAMLH0A0HYM2\": 4.1}, {\"index\": 1210, \"DATE\": \"2004-07-31T00:00:00\", \"BAMLH0A0HYM2\": 4.02}, {\"index\": 1232, \"DATE\": \"2004-08-31T00:00:00\", \"BAMLH0A0HYM2\": 4.06}, {\"index\": 1254, \"DATE\": \"2004-09-30T00:00:00\", \"BAMLH0A0HYM2\": 3.83}, {\"index\": 1276, \"DATE\": \"2004-10-31T00:00:00\", \"BAMLH0A0HYM2\": 3.63}, {\"index\": 1298, \"DATE\": \"2004-11-30T00:00:00\", \"BAMLH0A0HYM2\": 3.17}, {\"index\": 1321, \"DATE\": \"2004-12-31T00:00:00\", \"BAMLH0A0HYM2\": 3.1}, {\"index\": 1342, \"DATE\": \"2005-01-31T00:00:00\", \"BAMLH0A0HYM2\": 3.29}, {\"index\": 1362, \"DATE\": \"2005-02-28T00:00:00\", \"BAMLH0A0HYM2\": 2.83}, {\"index\": 1385, \"DATE\": \"2005-03-31T00:00:00\", \"BAMLH0A0HYM2\": 3.52}, {\"index\": 1407, \"DATE\": \"2005-04-30T00:00:00\", \"BAMLH0A0HYM2\": 4.19}, {\"index\": 1429, \"DATE\": \"2005-05-31T00:00:00\", \"BAMLH0A0HYM2\": 4.13}, {\"index\": 1451, \"DATE\": \"2005-06-30T00:00:00\", \"BAMLH0A0HYM2\": 3.85}, {\"index\": 1473, \"DATE\": \"2005-07-31T00:00:00\", \"BAMLH0A0HYM2\": 3.3}, {\"index\": 1496, \"DATE\": \"2005-08-31T00:00:00\", \"BAMLH0A0HYM2\": 3.66}, {\"index\": 1518, \"DATE\": \"2005-09-30T00:00:00\", \"BAMLH0A0HYM2\": 3.54}, {\"index\": 1539, \"DATE\": \"2005-10-31T00:00:00\", \"BAMLH0A0HYM2\": 3.61}, {\"index\": 1561, \"DATE\": \"2005-11-30T00:00:00\", \"BAMLH0A0HYM2\": 3.67}, {\"index\": 1584, \"DATE\": \"2005-12-31T00:00:00\", \"BAMLH0A0HYM2\": 3.71}, {\"index\": 1606, \"DATE\": \"2006-01-31T00:00:00\", \"BAMLH0A0HYM2\": 3.42}, {\"index\": 1626, \"DATE\": \"2006-02-28T00:00:00\", \"BAMLH0A0HYM2\": 3.37}, {\"index\": 1649, \"DATE\": \"2006-03-31T00:00:00\", \"BAMLH0A0HYM2\": 3.13}, {\"index\": 1670, \"DATE\": \"2006-04-30T00:00:00\", \"BAMLH0A0HYM2\": 3.04}, {\"index\": 1693, \"DATE\": \"2006-05-31T00:00:00\", \"BAMLH0A0HYM2\": 3.12}, {\"index\": 1715, \"DATE\": \"2006-06-30T00:00:00\", \"BAMLH0A0HYM2\": 3.35}, {\"index\": 1736, \"DATE\": \"2006-07-31T00:00:00\", \"BAMLH0A0HYM2\": 3.45}, {\"index\": 1759, \"DATE\": \"2006-08-31T00:00:00\", \"BAMLH0A0HYM2\": 3.49}, {\"index\": 1781, \"DATE\": \"2006-09-30T00:00:00\", \"BAMLH0A0HYM2\": 3.44}, {\"index\": 1803, \"DATE\": \"2006-10-31T00:00:00\", \"BAMLH0A0HYM2\": 3.29}, {\"index\": 1825, \"DATE\": \"2006-11-30T00:00:00\", \"BAMLH0A0HYM2\": 3.2}, {\"index\": 1847, \"DATE\": \"2006-12-31T00:00:00\", \"BAMLH0A0HYM2\": 2.89}, {\"index\": 1870, \"DATE\": \"2007-01-31T00:00:00\", \"BAMLH0A0HYM2\": 2.72}, {\"index\": 1890, \"DATE\": \"2007-02-28T00:00:00\", \"BAMLH0A0HYM2\": 2.82}, {\"index\": 1913, \"DATE\": \"2007-03-31T00:00:00\", \"BAMLH0A0HYM2\": 2.85}, {\"index\": 1934, \"DATE\": \"2007-04-30T00:00:00\", \"BAMLH0A0HYM2\": 2.74}, {\"index\": 1957, \"DATE\": \"2007-05-31T00:00:00\", \"BAMLH0A0HYM2\": 2.46}, {\"index\": 1979, \"DATE\": \"2007-06-30T00:00:00\", \"BAMLH0A0HYM2\": 2.98}, {\"index\": 2001, \"DATE\": \"2007-07-31T00:00:00\", \"BAMLH0A0HYM2\": 4.19}, {\"index\": 2024, \"DATE\": \"2007-08-31T00:00:00\", \"BAMLH0A0HYM2\": 4.55}, {\"index\": 2045, \"DATE\": \"2007-09-30T00:00:00\", \"BAMLH0A0HYM2\": 4.2}, {\"index\": 2068, \"DATE\": \"2007-10-31T00:00:00\", \"BAMLH0A0HYM2\": 4.36}, {\"index\": 2090, \"DATE\": \"2007-11-30T00:00:00\", \"BAMLH0A0HYM2\": 5.75}, {\"index\": 2111, \"DATE\": \"2007-12-31T00:00:00\", \"BAMLH0A0HYM2\": 5.92}, {\"index\": 2134, \"DATE\": \"2008-01-31T00:00:00\", \"BAMLH0A0HYM2\": 6.95}, {\"index\": 2155, \"DATE\": \"2008-02-29T00:00:00\", \"BAMLH0A0HYM2\": 7.67}, {\"index\": 2176, \"DATE\": \"2008-03-31T00:00:00\", \"BAMLH0A0HYM2\": 8.21}, {\"index\": 2198, \"DATE\": \"2008-04-30T00:00:00\", \"BAMLH0A0HYM2\": 6.86}, {\"index\": 2221, \"DATE\": \"2008-05-31T00:00:00\", \"BAMLH0A0HYM2\": 6.53}, {\"index\": 2242, \"DATE\": \"2008-06-30T00:00:00\", \"BAMLH0A0HYM2\": 7.35}, {\"index\": 2265, \"DATE\": \"2008-07-31T00:00:00\", \"BAMLH0A0HYM2\": 8.0}, {\"index\": 2287, \"DATE\": \"2008-08-31T00:00:00\", \"BAMLH0A0HYM2\": 8.36}, {\"index\": 2309, \"DATE\": \"2008-09-30T00:00:00\", \"BAMLH0A0HYM2\": 10.96}, {\"index\": 2332, \"DATE\": \"2008-10-31T00:00:00\", \"BAMLH0A0HYM2\": 16.17}, {\"index\": 2353, \"DATE\": \"2008-11-30T00:00:00\", \"BAMLH0A0HYM2\": 19.88}, {\"index\": 2376, \"DATE\": \"2008-12-31T00:00:00\", \"BAMLH0A0HYM2\": 18.12}, {\"index\": 2399, \"DATE\": \"2009-01-31T00:00:00\", \"BAMLH0A0HYM2\": 16.26}, {\"index\": 2420, \"DATE\": \"2009-02-28T00:00:00\", \"BAMLH0A0HYM2\": 17.38}, {\"index\": 2442, \"DATE\": \"2009-03-31T00:00:00\", \"BAMLH0A0HYM2\": 17.03}, {\"index\": 2464, \"DATE\": \"2009-04-30T00:00:00\", \"BAMLH0A0HYM2\": 13.45}, {\"index\": 2486, \"DATE\": \"2009-05-31T00:00:00\", \"BAMLH0A0HYM2\": 11.7}, {\"index\": 2508, \"DATE\": \"2009-06-30T00:00:00\", \"BAMLH0A0HYM2\": 10.55}, {\"index\": 2531, \"DATE\": \"2009-07-31T00:00:00\", \"BAMLH0A0HYM2\": 9.22}, {\"index\": 2552, \"DATE\": \"2009-08-31T00:00:00\", \"BAMLH0A0HYM2\": 9.12}, {\"index\": 2574, \"DATE\": \"2009-09-30T00:00:00\", \"BAMLH0A0HYM2\": 7.93}, {\"index\": 2597, \"DATE\": \"2009-10-31T00:00:00\", \"BAMLH0A0HYM2\": 7.6}, {\"index\": 2618, \"DATE\": \"2009-11-30T00:00:00\", \"BAMLH0A0HYM2\": 7.65}, {\"index\": 2641, \"DATE\": \"2009-12-31T00:00:00\", \"BAMLH0A0HYM2\": 6.39}, {\"index\": 2663, \"DATE\": \"2010-01-31T00:00:00\", \"BAMLH0A0HYM2\": 6.54}, {\"index\": 2684, \"DATE\": \"2010-02-28T00:00:00\", \"BAMLH0A0HYM2\": 6.71}, {\"index\": 2707, \"DATE\": \"2010-03-31T00:00:00\", \"BAMLH0A0HYM2\": 5.84}, {\"index\": 2729, \"DATE\": \"2010-04-30T00:00:00\", \"BAMLH0A0HYM2\": 5.61}, {\"index\": 2750, \"DATE\": \"2010-05-31T00:00:00\", \"BAMLH0A0HYM2\": 6.98}, {\"index\": 2772, \"DATE\": \"2010-06-30T00:00:00\", \"BAMLH0A0HYM2\": 7.13}, {\"index\": 2795, \"DATE\": \"2010-07-31T00:00:00\", \"BAMLH0A0HYM2\": 6.59}, {\"index\": 2817, \"DATE\": \"2010-08-31T00:00:00\", \"BAMLH0A0HYM2\": 6.92}, {\"index\": 2839, \"DATE\": \"2010-09-30T00:00:00\", \"BAMLH0A0HYM2\": 6.26}, {\"index\": 2861, \"DATE\": \"2010-10-31T00:00:00\", \"BAMLH0A0HYM2\": 5.93}, {\"index\": 2883, \"DATE\": \"2010-11-30T00:00:00\", \"BAMLH0A0HYM2\": 6.22}, {\"index\": 2906, \"DATE\": \"2010-12-31T00:00:00\", \"BAMLH0A0HYM2\": 5.41}, {\"index\": 2927, \"DATE\": \"2011-01-31T00:00:00\", \"BAMLH0A0HYM2\": 5.08}, {\"index\": 2947, \"DATE\": \"2011-02-28T00:00:00\", \"BAMLH0A0HYM2\": 4.78}, {\"index\": 2970, \"DATE\": \"2011-03-31T00:00:00\", \"BAMLH0A0HYM2\": 4.77}, {\"index\": 2992, \"DATE\": \"2011-04-30T00:00:00\", \"BAMLH0A0HYM2\": 4.76}, {\"index\": 3014, \"DATE\": \"2011-05-31T00:00:00\", \"BAMLH0A0HYM2\": 5.09}, {\"index\": 3036, \"DATE\": \"2011-06-30T00:00:00\", \"BAMLH0A0HYM2\": 5.42}, {\"index\": 3058, \"DATE\": \"2011-07-31T00:00:00\", \"BAMLH0A0HYM2\": 5.58}, {\"index\": 3081, \"DATE\": \"2011-08-31T00:00:00\", \"BAMLH0A0HYM2\": 7.3}, {\"index\": 3103, \"DATE\": \"2011-09-30T00:00:00\", \"BAMLH0A0HYM2\": 8.41}, {\"index\": 3124, \"DATE\": \"2011-10-31T00:00:00\", \"BAMLH0A0HYM2\": 7.07}, {\"index\": 3146, \"DATE\": \"2011-11-30T00:00:00\", \"BAMLH0A0HYM2\": 7.79}, {\"index\": 3169, \"DATE\": \"2011-12-31T00:00:00\", \"BAMLH0A0HYM2\": 7.23}, {\"index\": 3191, \"DATE\": \"2012-01-31T00:00:00\", \"BAMLH0A0HYM2\": 6.61}, {\"index\": 3212, \"DATE\": \"2012-02-29T00:00:00\", \"BAMLH0A0HYM2\": 5.98}, {\"index\": 3235, \"DATE\": \"2012-03-31T00:00:00\", \"BAMLH0A0HYM2\": 5.99}, {\"index\": 3256, \"DATE\": \"2012-04-30T00:00:00\", \"BAMLH0A0HYM2\": 6.04}, {\"index\": 3279, \"DATE\": \"2012-05-31T00:00:00\", \"BAMLH0A0HYM2\": 6.96}, {\"index\": 3301, \"DATE\": \"2012-06-30T00:00:00\", \"BAMLH0A0HYM2\": 6.44}, {\"index\": 3323, \"DATE\": \"2012-07-31T00:00:00\", \"BAMLH0A0HYM2\": 6.16}, {\"index\": 3346, \"DATE\": \"2012-08-31T00:00:00\", \"BAMLH0A0HYM2\": 5.98}, {\"index\": 3367, \"DATE\": \"2012-09-30T00:00:00\", \"BAMLH0A0HYM2\": 5.74}, {\"index\": 3390, \"DATE\": \"2012-10-31T00:00:00\", \"BAMLH0A0HYM2\": 5.63}, {\"index\": 3412, \"DATE\": \"2012-11-30T00:00:00\", \"BAMLH0A0HYM2\": 5.65}, {\"index\": 3433, \"DATE\": \"2012-12-31T00:00:00\", \"BAMLH0A0HYM2\": 5.34}, {\"index\": 3456, \"DATE\": \"2013-01-31T00:00:00\", \"BAMLH0A0HYM2\": 4.95}, {\"index\": 3476, \"DATE\": \"2013-02-28T00:00:00\", \"BAMLH0A0HYM2\": 4.98}, {\"index\": 3498, \"DATE\": \"2013-03-31T00:00:00\", \"BAMLH0A0HYM2\": 4.86}, {\"index\": 3520, \"DATE\": \"2013-04-30T00:00:00\", \"BAMLH0A0HYM2\": 4.55}, {\"index\": 3543, \"DATE\": \"2013-05-31T00:00:00\", \"BAMLH0A0HYM2\": 4.62}, {\"index\": 3564, \"DATE\": \"2013-06-30T00:00:00\", \"BAMLH0A0HYM2\": 5.21}, {\"index\": 3587, \"DATE\": \"2013-07-31T00:00:00\", \"BAMLH0A0HYM2\": 4.71}, {\"index\": 3608, \"DATE\": \"2013-08-29T00:00:00\", \"BAMLH0A0HYM2\": 4.76}, {\"index\": 3630, \"DATE\": \"2013-09-30T00:00:00\", \"BAMLH0A0HYM2\": 4.83}, {\"index\": 3653, \"DATE\": \"2013-10-31T00:00:00\", \"BAMLH0A0HYM2\": 4.36}, {\"index\": 3675, \"DATE\": \"2013-11-30T00:00:00\", \"BAMLH0A0HYM2\": 4.27}, {\"index\": 3697, \"DATE\": \"2013-12-31T00:00:00\", \"BAMLH0A0HYM2\": 4.0}, {\"index\": 3720, \"DATE\": \"2014-01-31T00:00:00\", \"BAMLH0A0HYM2\": 4.21}, {\"index\": 3740, \"DATE\": \"2014-02-28T00:00:00\", \"BAMLH0A0HYM2\": 3.81}, {\"index\": 3761, \"DATE\": \"2014-03-31T00:00:00\", \"BAMLH0A0HYM2\": 3.77}, {\"index\": 3783, \"DATE\": \"2014-04-30T00:00:00\", \"BAMLH0A0HYM2\": 3.71}, {\"index\": 3806, \"DATE\": \"2014-05-31T00:00:00\", \"BAMLH0A0HYM2\": 3.67}, {\"index\": 3827, \"DATE\": \"2014-06-30T00:00:00\", \"BAMLH0A0HYM2\": 3.53}, {\"index\": 3850, \"DATE\": \"2014-07-31T00:00:00\", \"BAMLH0A0HYM2\": 4.04}, {\"index\": 3872, \"DATE\": \"2014-08-31T00:00:00\", \"BAMLH0A0HYM2\": 3.84}, {\"index\": 3894, \"DATE\": \"2014-09-30T00:00:00\", \"BAMLH0A0HYM2\": 4.4}, {\"index\": 3917, \"DATE\": \"2014-10-31T00:00:00\", \"BAMLH0A0HYM2\": 4.3}, {\"index\": 3938, \"DATE\": \"2014-11-30T00:00:00\", \"BAMLH0A0HYM2\": 4.67}, {\"index\": 3961, \"DATE\": \"2014-12-31T00:00:00\", \"BAMLH0A0HYM2\": 5.04}, {\"index\": 3984, \"DATE\": \"2015-01-31T00:00:00\", \"BAMLH0A0HYM2\": 5.26}, {\"index\": 4005, \"DATE\": \"2015-02-28T00:00:00\", \"BAMLH0A0HYM2\": 4.46}, {\"index\": 4027, \"DATE\": \"2015-03-31T00:00:00\", \"BAMLH0A0HYM2\": 4.82}, {\"index\": 4049, \"DATE\": \"2015-04-30T00:00:00\", \"BAMLH0A0HYM2\": 4.59}, {\"index\": 4071, \"DATE\": \"2015-05-31T00:00:00\", \"BAMLH0A0HYM2\": 4.58}, {\"index\": 4093, \"DATE\": \"2015-06-30T00:00:00\", \"BAMLH0A0HYM2\": 5.0}, {\"index\": 4116, \"DATE\": \"2015-07-31T00:00:00\", \"BAMLH0A0HYM2\": 5.36}, {\"index\": 4137, \"DATE\": \"2015-08-31T00:00:00\", \"BAMLH0A0HYM2\": 5.7}, {\"index\": 4159, \"DATE\": \"2015-09-30T00:00:00\", \"BAMLH0A0HYM2\": 6.62}, {\"index\": 4182, \"DATE\": \"2015-10-31T00:00:00\", \"BAMLH0A0HYM2\": 5.9}, {\"index\": 4203, \"DATE\": \"2015-11-30T00:00:00\", \"BAMLH0A0HYM2\": 6.4}, {\"index\": 4226, \"DATE\": \"2015-12-31T00:00:00\", \"BAMLH0A0HYM2\": 6.95}, {\"index\": 4248, \"DATE\": \"2016-01-31T00:00:00\", \"BAMLH0A0HYM2\": 7.77}, {\"index\": 4269, \"DATE\": \"2016-02-29T00:00:00\", \"BAMLH0A0HYM2\": 7.75}, {\"index\": 4292, \"DATE\": \"2016-03-31T00:00:00\", \"BAMLH0A0HYM2\": 7.05}, {\"index\": 4314, \"DATE\": \"2016-04-30T00:00:00\", \"BAMLH0A0HYM2\": 6.21}, {\"index\": 4336, \"DATE\": \"2016-05-31T00:00:00\", \"BAMLH0A0HYM2\": 5.97}, {\"index\": 4358, \"DATE\": \"2016-06-30T00:00:00\", \"BAMLH0A0HYM2\": 6.21}, {\"index\": 4380, \"DATE\": \"2016-07-31T00:00:00\", \"BAMLH0A0HYM2\": 5.69}, {\"index\": 4403, \"DATE\": \"2016-08-31T00:00:00\", \"BAMLH0A0HYM2\": 5.1}, {\"index\": 4425, \"DATE\": \"2016-09-30T00:00:00\", \"BAMLH0A0HYM2\": 4.97}, {\"index\": 4446, \"DATE\": \"2016-10-31T00:00:00\", \"BAMLH0A0HYM2\": 4.91}, {\"index\": 4468, \"DATE\": \"2016-11-30T00:00:00\", \"BAMLH0A0HYM2\": 4.67}, {\"index\": 4491, \"DATE\": \"2016-12-31T00:00:00\", \"BAMLH0A0HYM2\": 4.22}, {\"index\": 4513, \"DATE\": \"2017-01-31T00:00:00\", \"BAMLH0A0HYM2\": 4.0}, {\"index\": 4533, \"DATE\": \"2017-02-28T00:00:00\", \"BAMLH0A0HYM2\": 3.74}, {\"index\": 4556, \"DATE\": \"2017-03-31T00:00:00\", \"BAMLH0A0HYM2\": 3.92}, {\"index\": 4577, \"DATE\": \"2017-04-30T00:00:00\", \"BAMLH0A0HYM2\": 3.81}, {\"index\": 4600, \"DATE\": \"2017-05-31T00:00:00\", \"BAMLH0A0HYM2\": 3.74}, {\"index\": 4622, \"DATE\": \"2017-06-30T00:00:00\", \"BAMLH0A0HYM2\": 3.77}, {\"index\": 4643, \"DATE\": \"2017-07-31T00:00:00\", \"BAMLH0A0HYM2\": 3.61}, {\"index\": 4666, \"DATE\": \"2017-08-31T00:00:00\", \"BAMLH0A0HYM2\": 3.85}, {\"index\": 4688, \"DATE\": \"2017-09-30T00:00:00\", \"BAMLH0A0HYM2\": 3.56}, {\"index\": 4710, \"DATE\": \"2017-10-31T00:00:00\", \"BAMLH0A0HYM2\": 3.51}, {\"index\": 4732, \"DATE\": \"2017-11-30T00:00:00\", \"BAMLH0A0HYM2\": 3.61}, {\"index\": 4754, \"DATE\": \"2017-12-31T00:00:00\", \"BAMLH0A0HYM2\": 3.63}, {\"index\": 4777, \"DATE\": \"2018-01-31T00:00:00\", \"BAMLH0A0HYM2\": 3.29}, {\"index\": 4797, \"DATE\": \"2018-02-28T00:00:00\", \"BAMLH0A0HYM2\": 3.47}, {\"index\": 4820, \"DATE\": \"2018-03-31T00:00:00\", \"BAMLH0A0HYM2\": 3.72}, {\"index\": 4841, \"DATE\": \"2018-04-30T00:00:00\", \"BAMLH0A0HYM2\": 3.46}, {\"index\": 4864, \"DATE\": \"2018-05-31T00:00:00\", \"BAMLH0A0HYM2\": 3.63}, {\"index\": 4886, \"DATE\": \"2018-06-30T00:00:00\", \"BAMLH0A0HYM2\": 3.71}, {\"index\": 4908, \"DATE\": \"2018-07-31T00:00:00\", \"BAMLH0A0HYM2\": 3.46}, {\"index\": 4931, \"DATE\": \"2018-08-31T00:00:00\", \"BAMLH0A0HYM2\": 3.49}, {\"index\": 4952, \"DATE\": \"2018-09-30T00:00:00\", \"BAMLH0A0HYM2\": 3.28}, {\"index\": 4975, \"DATE\": \"2018-10-31T00:00:00\", \"BAMLH0A0HYM2\": 3.81}, {\"index\": 4997, \"DATE\": \"2018-11-30T00:00:00\", \"BAMLH0A0HYM2\": 4.29}, {\"index\": 5018, \"DATE\": \"2018-12-31T00:00:00\", \"BAMLH0A0HYM2\": 5.33}, {\"index\": 5041, \"DATE\": \"2019-01-31T00:00:00\", \"BAMLH0A0HYM2\": 4.37}, {\"index\": 5061, \"DATE\": \"2019-02-28T00:00:00\", \"BAMLH0A0HYM2\": 3.92}, {\"index\": 5083, \"DATE\": \"2019-03-31T00:00:00\", \"BAMLH0A0HYM2\": 4.05}, {\"index\": 5105, \"DATE\": \"2019-04-30T00:00:00\", \"BAMLH0A0HYM2\": 3.73}, {\"index\": 5128, \"DATE\": \"2019-05-31T00:00:00\", \"BAMLH0A0HYM2\": 4.59}, {\"index\": 5149, \"DATE\": \"2019-06-30T00:00:00\", \"BAMLH0A0HYM2\": 4.07}, {\"index\": 5172, \"DATE\": \"2019-07-31T00:00:00\", \"BAMLH0A0HYM2\": 3.93}, {\"index\": 5195, \"DATE\": \"2019-08-31T00:00:00\", \"BAMLH0A0HYM2\": 4.13}, {\"index\": 5216, \"DATE\": \"2019-09-30T00:00:00\", \"BAMLH0A0HYM2\": 4.02}, {\"index\": 5239, \"DATE\": \"2019-10-31T00:00:00\", \"BAMLH0A0HYM2\": 4.15}, {\"index\": 5261, \"DATE\": \"2019-11-30T00:00:00\", \"BAMLH0A0HYM2\": 4.02}, {\"index\": 5283, \"DATE\": \"2019-12-31T00:00:00\", \"BAMLH0A0HYM2\": 3.6}, {\"index\": 5306, \"DATE\": \"2020-01-31T00:00:00\", \"BAMLH0A0HYM2\": 4.03}, {\"index\": 5327, \"DATE\": \"2020-02-29T00:00:00\", \"BAMLH0A0HYM2\": 5.06}, {\"index\": 5349, \"DATE\": \"2020-03-31T00:00:00\", \"BAMLH0A0HYM2\": 8.77}, {\"index\": 5371, \"DATE\": \"2020-04-30T00:00:00\", \"BAMLH0A0HYM2\": 7.63}, {\"index\": 5393, \"DATE\": \"2020-05-31T00:00:00\", \"BAMLH0A0HYM2\": 6.54}, {\"index\": 5415, \"DATE\": \"2020-06-30T00:00:00\", \"BAMLH0A0HYM2\": 6.44}, {\"index\": 5438, \"DATE\": \"2020-07-31T00:00:00\", \"BAMLH0A0HYM2\": 5.16}, {\"index\": 5459, \"DATE\": \"2020-08-31T00:00:00\", \"BAMLH0A0HYM2\": 5.02}, {\"index\": 5481, \"DATE\": \"2020-09-30T00:00:00\", \"BAMLH0A0HYM2\": 5.41}, {\"index\": 5504, \"DATE\": \"2020-10-31T00:00:00\", \"BAMLH0A0HYM2\": 5.32}, {\"index\": 5525, \"DATE\": \"2020-11-30T00:00:00\", \"BAMLH0A0HYM2\": 4.33}, {\"index\": 5548, \"DATE\": \"2020-12-31T00:00:00\", \"BAMLH0A0HYM2\": 3.86}], \"data-fb17600278770dc02096e7026f827d88\": [{\"index\": 0, \"DATE\": \"2000-01-31T00:00:00\", \"DRTSCIS\": 9.4}, {\"index\": 1, \"DATE\": \"2000-04-30T00:00:00\", \"DRTSCIS\": 21.4}, {\"index\": 2, \"DATE\": \"2000-07-31T00:00:00\", \"DRTSCIS\": 23.6}, {\"index\": 3, \"DATE\": \"2000-10-31T00:00:00\", \"DRTSCIS\": 27.3}, {\"index\": 4, \"DATE\": \"2001-01-31T00:00:00\", \"DRTSCIS\": 45.5}, {\"index\": 5, \"DATE\": \"2001-04-30T00:00:00\", \"DRTSCIS\": 36.4}, {\"index\": 6, \"DATE\": \"2001-07-31T00:00:00\", \"DRTSCIS\": 31.6}, {\"index\": 7, \"DATE\": \"2001-10-31T00:00:00\", \"DRTSCIS\": 40.4}, {\"index\": 8, \"DATE\": \"2002-01-31T00:00:00\", \"DRTSCIS\": 41.8}, {\"index\": 9, \"DATE\": \"2002-04-30T00:00:00\", \"DRTSCIS\": 14.5}, {\"index\": 10, \"DATE\": \"2002-07-31T00:00:00\", \"DRTSCIS\": 5.5}, {\"index\": 11, \"DATE\": \"2002-10-31T00:00:00\", \"DRTSCIS\": 18.2}, {\"index\": 12, \"DATE\": \"2003-01-31T00:00:00\", \"DRTSCIS\": 13.8}, {\"index\": 13, \"DATE\": \"2003-04-30T00:00:00\", \"DRTSCIS\": 12.7}, {\"index\": 14, \"DATE\": \"2003-07-31T00:00:00\", \"DRTSCIS\": 3.5}, {\"index\": 15, \"DATE\": \"2003-10-31T00:00:00\", \"DRTSCIS\": -1.8}, {\"index\": 16, \"DATE\": \"2004-01-31T00:00:00\", \"DRTSCIS\": -10.9}, {\"index\": 17, \"DATE\": \"2004-04-30T00:00:00\", \"DRTSCIS\": -19.3}, {\"index\": 18, \"DATE\": \"2004-07-31T00:00:00\", \"DRTSCIS\": -3.6}, {\"index\": 19, \"DATE\": \"2004-10-31T00:00:00\", \"DRTSCIS\": -18.2}, {\"index\": 20, \"DATE\": \"2005-01-31T00:00:00\", \"DRTSCIS\": -13.0}, {\"index\": 21, \"DATE\": \"2005-04-30T00:00:00\", \"DRTSCIS\": -24.1}, {\"index\": 22, \"DATE\": \"2005-07-31T00:00:00\", \"DRTSCIS\": -11.1}, {\"index\": 23, \"DATE\": \"2005-10-31T00:00:00\", \"DRTSCIS\": -5.3}, {\"index\": 24, \"DATE\": \"2006-01-31T00:00:00\", \"DRTSCIS\": -7.1}, {\"index\": 25, \"DATE\": \"2006-04-30T00:00:00\", \"DRTSCIS\": -7.0}, {\"index\": 26, \"DATE\": \"2006-07-31T00:00:00\", \"DRTSCIS\": -1.8}, {\"index\": 27, \"DATE\": \"2006-10-31T00:00:00\", \"DRTSCIS\": -1.9}, {\"index\": 28, \"DATE\": \"2007-01-31T00:00:00\", \"DRTSCIS\": 5.4}, {\"index\": 29, \"DATE\": \"2007-04-30T00:00:00\", \"DRTSCIS\": 1.9}, {\"index\": 30, \"DATE\": \"2007-07-31T00:00:00\", \"DRTSCIS\": 7.7}, {\"index\": 31, \"DATE\": \"2007-10-31T00:00:00\", \"DRTSCIS\": 9.6}, {\"index\": 32, \"DATE\": \"2008-01-31T00:00:00\", \"DRTSCIS\": 30.4}, {\"index\": 33, \"DATE\": \"2008-04-30T00:00:00\", \"DRTSCIS\": 51.8}, {\"index\": 34, \"DATE\": \"2008-07-31T00:00:00\", \"DRTSCIS\": 65.4}, {\"index\": 35, \"DATE\": \"2008-10-31T00:00:00\", \"DRTSCIS\": 74.5}, {\"index\": 36, \"DATE\": \"2009-01-31T00:00:00\", \"DRTSCIS\": 69.2}, {\"index\": 37, \"DATE\": \"2009-04-30T00:00:00\", \"DRTSCIS\": 42.3}, {\"index\": 38, \"DATE\": \"2009-07-31T00:00:00\", \"DRTSCIS\": 34.0}, {\"index\": 39, \"DATE\": \"2009-10-31T00:00:00\", \"DRTSCIS\": 16.1}, {\"index\": 40, \"DATE\": \"2010-01-31T00:00:00\", \"DRTSCIS\": 3.7}, {\"index\": 41, \"DATE\": \"2010-04-30T00:00:00\", \"DRTSCIS\": 0.0}, {\"index\": 42, \"DATE\": \"2010-07-31T00:00:00\", \"DRTSCIS\": -9.1}, {\"index\": 43, \"DATE\": \"2010-10-31T00:00:00\", \"DRTSCIS\": -7.1}, {\"index\": 44, \"DATE\": \"2011-01-31T00:00:00\", \"DRTSCIS\": -1.9}, {\"index\": 45, \"DATE\": \"2011-04-30T00:00:00\", \"DRTSCIS\": -13.5}, {\"index\": 46, \"DATE\": \"2011-07-31T00:00:00\", \"DRTSCIS\": -7.8}, {\"index\": 47, \"DATE\": \"2011-10-31T00:00:00\", \"DRTSCIS\": -6.3}, {\"index\": 48, \"DATE\": \"2012-01-31T00:00:00\", \"DRTSCIS\": 1.9}, {\"index\": 49, \"DATE\": \"2012-04-30T00:00:00\", \"DRTSCIS\": -1.8}, {\"index\": 50, \"DATE\": \"2012-07-31T00:00:00\", \"DRTSCIS\": -4.9}, {\"index\": 51, \"DATE\": \"2012-10-31T00:00:00\", \"DRTSCIS\": -7.6}, {\"index\": 52, \"DATE\": \"2013-01-31T00:00:00\", \"DRTSCIS\": -7.7}, {\"index\": 53, \"DATE\": \"2013-04-30T00:00:00\", \"DRTSCIS\": -23.1}, {\"index\": 54, \"DATE\": \"2013-07-31T00:00:00\", \"DRTSCIS\": -10.0}, {\"index\": 55, \"DATE\": \"2013-10-31T00:00:00\", \"DRTSCIS\": -7.1}, {\"index\": 56, \"DATE\": \"2014-01-31T00:00:00\", \"DRTSCIS\": -4.2}, {\"index\": 57, \"DATE\": \"2014-04-30T00:00:00\", \"DRTSCIS\": -7.0}, {\"index\": 58, \"DATE\": \"2014-07-31T00:00:00\", \"DRTSCIS\": -8.3}, {\"index\": 59, \"DATE\": \"2014-10-31T00:00:00\", \"DRTSCIS\": -8.2}, {\"index\": 60, \"DATE\": \"2015-01-31T00:00:00\", \"DRTSCIS\": -5.7}, {\"index\": 61, \"DATE\": \"2015-04-30T00:00:00\", \"DRTSCIS\": -1.4}, {\"index\": 62, \"DATE\": \"2015-07-31T00:00:00\", \"DRTSCIS\": -6.0}, {\"index\": 63, \"DATE\": \"2015-10-31T00:00:00\", \"DRTSCIS\": 1.5}, {\"index\": 64, \"DATE\": \"2016-01-31T00:00:00\", \"DRTSCIS\": 4.2}, {\"index\": 65, \"DATE\": \"2016-04-30T00:00:00\", \"DRTSCIS\": 5.8}, {\"index\": 66, \"DATE\": \"2016-07-31T00:00:00\", \"DRTSCIS\": 7.1}, {\"index\": 67, \"DATE\": \"2016-10-31T00:00:00\", \"DRTSCIS\": -1.5}, {\"index\": 68, \"DATE\": \"2017-01-31T00:00:00\", \"DRTSCIS\": 0.0}, {\"index\": 69, \"DATE\": \"2017-04-30T00:00:00\", \"DRTSCIS\": -2.9}, {\"index\": 70, \"DATE\": \"2017-07-31T00:00:00\", \"DRTSCIS\": -4.1}, {\"index\": 71, \"DATE\": \"2017-10-31T00:00:00\", \"DRTSCIS\": -8.8}, {\"index\": 72, \"DATE\": \"2018-01-31T00:00:00\", \"DRTSCIS\": 0.0}, {\"index\": 73, \"DATE\": \"2018-04-30T00:00:00\", \"DRTSCIS\": -3.0}, {\"index\": 74, \"DATE\": \"2018-07-31T00:00:00\", \"DRTSCIS\": -7.6}, {\"index\": 75, \"DATE\": \"2018-10-31T00:00:00\", \"DRTSCIS\": -3.1}, {\"index\": 76, \"DATE\": \"2019-01-31T00:00:00\", \"DRTSCIS\": 4.3}, {\"index\": 77, \"DATE\": \"2019-04-30T00:00:00\", \"DRTSCIS\": 0.0}, {\"index\": 78, \"DATE\": \"2019-07-31T00:00:00\", \"DRTSCIS\": -5.8}, {\"index\": 79, \"DATE\": \"2019-10-31T00:00:00\", \"DRTSCIS\": 5.6}, {\"index\": 80, \"DATE\": \"2020-01-31T00:00:00\", \"DRTSCIS\": -1.4}, {\"index\": 81, \"DATE\": \"2020-04-30T00:00:00\", \"DRTSCIS\": 39.7}, {\"index\": 82, \"DATE\": \"2020-07-31T00:00:00\", \"DRTSCIS\": 70.0}, {\"index\": 83, \"DATE\": \"2020-10-31T00:00:00\", \"DRTSCIS\": 31.3}], \"data-4c6f780913a45f81a467345005541598\": [{\"value\": 0}]}}, {});\n",
       "</script>\n"
      ],
      "text/plain": [
       "<IPython.core.display.HTML object>"
      ]
     },
     "metadata": {},
     "output_type": "display_data"
    }
   ],
   "source": [
    "config=json.loads(open('chart.json','r').read())\n",
    "altair_viewer.display(config, inline=True)"
   ]
  },
  {
   "cell_type": "code",
   "execution_count": 114,
   "metadata": {},
   "outputs": [
    {
     "data": {
      "text/plain": [
       "23301"
      ]
     },
     "execution_count": 114,
     "metadata": {},
     "output_type": "execute_result"
    }
   ],
   "source": [
    "open('datasets.json','w').write(json.dumps(config['datasets']))"
   ]
  },
  {
   "cell_type": "code",
   "execution_count": 115,
   "metadata": {},
   "outputs": [],
   "source": [
    "datasets=config['datasets']"
   ]
  },
  {
   "cell_type": "code",
   "execution_count": 116,
   "metadata": {},
   "outputs": [],
   "source": [
    "config.pop('datasets');"
   ]
  },
  {
   "cell_type": "code",
   "execution_count": 117,
   "metadata": {},
   "outputs": [
    {
     "name": "stdout",
     "output_type": "stream",
     "text": [
      "data-2b08226b30bbb08a20f45bc01ddaafde\n",
      "data-aabda36bdbddb46b357052b4840408ae\n",
      "data-fb17600278770dc02096e7026f827d88\n",
      "data-4c6f780913a45f81a467345005541598\n"
     ]
    }
   ],
   "source": [
    "for d in datasets:\n",
    "    open(d+'.json','w').write(json.dumps(datasets[d]))\n",
    "    print(d)"
   ]
  },
  {
   "cell_type": "code",
   "execution_count": 118,
   "metadata": {},
   "outputs": [],
   "source": [
    "for layer in config['layer']:\n",
    "    if 'layer' in layer:\n",
    "        for layer2 in layer['layer']:\n",
    "            layer2['data']['url']=layer2['data']['name']+'.json'\n",
    "            layer2['data'].pop('name');\n",
    "    else:\n",
    "        layer['data']['url']=layer['data']['name']+'.json'\n",
    "        layer['data'].pop('name');\n",
    "open('config2.json','w').write(json.dumps(config))"
   ]
  },
  {
   "cell_type": "code",
   "execution_count": 123,
   "metadata": {},
   "outputs": [
    {
     "data": {
      "text/html": [
       "\n",
       "<div id=\"altair-chart-f30b4898347148bab0c389ea2d47886c\"></div>\n",
       "<script type=\"text/javascript\">\n",
       "  (function(spec, embedOpt) {\n",
       "    const outputDiv = document.getElementById(\"altair-chart-f30b4898347148bab0c389ea2d47886c\");\n",
       "    const urls = {\n",
       "      \"vega\": \"http://localhost:22671/scripts/vega.js\",\n",
       "      \"vega-lite\": \"http://localhost:22671/scripts/vega-lite.js\",\n",
       "      \"vega-embed\": \"http://localhost:22671/scripts/vega-embed.js\",\n",
       "    };\n",
       "    function loadScript(lib) {\n",
       "      return new Promise(function(resolve, reject) {\n",
       "        var s = document.createElement('script');\n",
       "        s.src = urls[lib];\n",
       "        s.async = true;\n",
       "        s.onload = () => resolve(urls[lib]);\n",
       "        s.onerror = () => reject(`Error loading script: ${urls[lib]}`);\n",
       "        document.getElementsByTagName(\"head\")[0].appendChild(s);\n",
       "      });\n",
       "    }\n",
       "    function showError(err) {\n",
       "      outputDiv.innerHTML = `<div class=\"error\" style=\"color:red;\">${err}</div>`;\n",
       "      throw err;\n",
       "    }\n",
       "    function displayChart(vegaEmbed) {\n",
       "      vegaEmbed(outputDiv, spec, embedOpt)\n",
       "        .catch(err => showError(`Javascript Error: ${err.message}<br>This usually means there's a typo in your chart specification. See the javascript console for the full traceback.`));\n",
       "    }\n",
       "\n",
       "    if(typeof define === \"function\" && define.amd) {\n",
       "        // requirejs paths need '.js' extension stripped.\n",
       "        const paths = Object.keys(urls).reduce(function(paths, package) {\n",
       "            paths[package] = urls[package].replace(/\\.js$/, \"\");\n",
       "            return paths\n",
       "        }, {})\n",
       "        requirejs.config({paths});\n",
       "        require([\"vega-embed\"], displayChart, err => showError(`Error loading script: ${err.message}`));\n",
       "    } else if (typeof vegaEmbed === \"function\") {\n",
       "        displayChart(vegaEmbed);\n",
       "    } else {\n",
       "        loadScript(\"vega\")\n",
       "            .then(() => loadScript(\"vega-lite\"))\n",
       "            .then(() => loadScript(\"vega-embed\"))\n",
       "            .catch(showError)\n",
       "            .then(() => displayChart(vegaEmbed));\n",
       "    }\n",
       "  })({\"config\": {\"view\": {\"continuousWidth\": 400, \"continuousHeight\": 300}}, \"layer\": [{\"data\": {\"url\": \"data-2b08226b30bbb08a20f45bc01ddaafde.json\"}, \"mark\": {\"type\": \"rect\", \"blend\": \"darken\"}, \"encoding\": {\"color\": {\"type\": \"nominal\", \"field\": \"color\", \"scale\": null}, \"x\": {\"type\": \"temporal\", \"field\": \"start\"}, \"x2\": {\"field\": \"end\"}}, \"height\": 250, \"width\": 700}, {\"layer\": [{\"data\": {\"url\": \"data-aabda36bdbddb46b357052b4840408ae.json\"}, \"mark\": {\"type\": \"line\", \"color\": \"#557CAA\", \"line\": true}, \"encoding\": {\"x\": {\"type\": \"temporal\", \"axis\": {\"grid\": false}, \"field\": \"DATE\", \"title\": null}, \"y\": {\"type\": \"quantitative\", \"axis\": {\"format\": \".1f\", \"grid\": true, \"tickCount\": 9, \"titleFontWeight\": \"normal\", \"values\": [0.0, 2.5, 5.0, 7.5, 10.0, 12.5, 15.0, 17.5, 20.0]}, \"field\": \"BAMLH0A0HYM2\", \"scale\": {\"domain\": [0, 20]}, \"title\": \"Percent\"}}}, {\"data\": {\"url\": \"data-fb17600278770dc02096e7026f827d88.json\"}, \"mark\": {\"type\": \"line\", \"color\": \"#A53F3D\", \"line\": true}, \"encoding\": {\"x\": {\"type\": \"temporal\", \"field\": \"DATE\"}, \"y\": {\"type\": \"quantitative\", \"axis\": {\"format\": \".0f\", \"tickCount\": 9, \"titleFontWeight\": \"normal\", \"values\": [-30, -15, 0, 15, 30, 45, 60, 75, 90]}, \"field\": \"DRTSCIS\", \"scale\": {\"domain\": [-30, 90]}, \"title\": \"Percent\"}}}, {\"data\": {\"url\": \"data-4c6f780913a45f81a467345005541598.json\"}, \"mark\": {\"type\": \"rule\", \"size\": 3}, \"encoding\": {\"y\": {\"type\": \"quantitative\", \"axis\": {\"grid\": false, \"values\": []}, \"field\": \"value\", \"scale\": {\"domain\": [0, 20]}, \"title\": null}}}], \"resolve\": {\"scale\": {\"y\": \"independent\"}}}, {\"data\": {\"url\": \"data-4c6f780913a45f81a467345005541598.json\"}, \"mark\": {\"type\": \"rule\", \"size\": 3}, \"encoding\": {\"y\": {\"type\": \"quantitative\", \"axis\": {\"grid\": false, \"values\": []}, \"field\": \"value\", \"scale\": {\"domain\": [0, 20]}, \"title\": null}}}], \"$schema\": \"https://vega.github.io/schema/vega-lite/v4.8.1.json\"}, {});\n",
       "</script>\n"
      ],
      "text/plain": [
       "<IPython.core.display.HTML object>"
      ]
     },
     "metadata": {},
     "output_type": "display_data"
    }
   ],
   "source": [
    "config2=json.loads(open('config2.json','r').read())\n",
    "altair_viewer.display(config2, inline=True)"
   ]
  },
  {
   "cell_type": "code",
   "execution_count": null,
   "metadata": {},
   "outputs": [],
   "source": []
  },
  {
   "cell_type": "code",
   "execution_count": null,
   "metadata": {},
   "outputs": [],
   "source": []
  },
  {
   "cell_type": "code",
   "execution_count": 647,
   "metadata": {},
   "outputs": [],
   "source": [
    "#https://blog.datawrapper.de/dualaxis/"
   ]
  },
  {
   "cell_type": "code",
   "execution_count": null,
   "metadata": {},
   "outputs": [],
   "source": []
  }
 ],
 "metadata": {
  "kernelspec": {
   "display_name": "Python 3",
   "language": "python",
   "name": "python3"
  },
  "language_info": {
   "codemirror_mode": {
    "name": "ipython",
    "version": 3
   },
   "file_extension": ".py",
   "mimetype": "text/x-python",
   "name": "python",
   "nbconvert_exporter": "python",
   "pygments_lexer": "ipython3",
   "version": "3.8.5"
  }
 },
 "nbformat": 4,
 "nbformat_minor": 4
}
